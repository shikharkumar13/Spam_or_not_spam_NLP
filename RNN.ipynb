{
 "cells": [
  {
   "cell_type": "markdown",
   "metadata": {},
   "source": [
    "# NLP Techniques: Build A Basic RNN"
   ]
  },
  {
   "cell_type": "markdown",
   "metadata": {},
   "source": [
    "### Read In Cleaned Text"
   ]
  },
  {
   "cell_type": "code",
   "execution_count": 1,
   "metadata": {},
   "outputs": [
    {
     "name": "stderr",
     "output_type": "stream",
     "text": [
      "Using TensorFlow backend.\n"
     ]
    }
   ],
   "source": [
    "# Load the cleaned training and test sets\n",
    "from keras.preprocessing.text import Tokenizer\n",
    "from keras.preprocessing.sequence import pad_sequences\n",
    "import pandas as pd\n",
    "\n",
    "X_train = pd.read_csv('../../../data/X_train.csv')\n",
    "X_test = pd.read_csv('../../../data/X_test.csv')\n",
    "y_train = pd.read_csv('../../../data/y_train.csv')\n",
    "y_test = pd.read_csv('../../../data/y_test.csv')"
   ]
  },
  {
   "cell_type": "markdown",
   "metadata": {},
   "source": [
    "### Prep Data"
   ]
  },
  {
   "cell_type": "code",
   "execution_count": 2,
   "metadata": {},
   "outputs": [],
   "source": [
    "# Train the tokenizer and use that tokenizer to convert the sentences to sequences of numbers\n",
    "tokenizer = Tokenizer()\n",
    "tokenizer.fit_on_texts(X_train['clean_text'])\n",
    "X_train_seq = tokenizer.texts_to_sequences(X_train['clean_text'])\n",
    "X_test_seq = tokenizer.texts_to_sequences(X_test['clean_text'])"
   ]
  },
  {
   "cell_type": "code",
   "execution_count": 3,
   "metadata": {},
   "outputs": [],
   "source": [
    "# Pad the sequences so each sequence is the same length\n",
    "X_train_seq_padded = pad_sequences(X_train_seq, 50)\n",
    "X_test_seq_padded = pad_sequences(X_test_seq, 50)"
   ]
  },
  {
   "cell_type": "markdown",
   "metadata": {},
   "source": [
    "### Build And Evaluate RNN"
   ]
  },
  {
   "cell_type": "code",
   "execution_count": 4,
   "metadata": {},
   "outputs": [],
   "source": [
    "# Import the tools needed and use our previously defined functions to calculate precision and recall\n",
    "import keras.backend as K\n",
    "from keras.layers import Dense, Embedding, LSTM\n",
    "from keras.models import Sequential\n",
    "\n",
    "def recall_m(y_true, y_pred):\n",
    "        true_positives = K.sum(K.round(K.clip(y_true * y_pred, 0, 1)))\n",
    "        possible_positives = K.sum(K.round(K.clip(y_true, 0, 1)))\n",
    "        recall = true_positives / (possible_positives + K.epsilon())\n",
    "        return recall\n",
    "\n",
    "def precision_m(y_true, y_pred):\n",
    "        true_positives = K.sum(K.round(K.clip(y_true * y_pred, 0, 1)))\n",
    "        predicted_positives = K.sum(K.round(K.clip(y_pred, 0, 1)))\n",
    "        precision = true_positives / (predicted_positives + K.epsilon())\n",
    "        return precision"
   ]
  },
  {
   "cell_type": "code",
   "execution_count": 5,
   "metadata": {},
   "outputs": [
    {
     "name": "stdout",
     "output_type": "stream",
     "text": [
      "Model: \"sequential_1\"\n",
      "_________________________________________________________________\n",
      "Layer (type)                 Output Shape              Param #   \n",
      "=================================================================\n",
      "embedding_1 (Embedding)      (None, None, 32)          265312    \n",
      "_________________________________________________________________\n",
      "lstm_1 (LSTM)                (None, 32)                8320      \n",
      "_________________________________________________________________\n",
      "dense_1 (Dense)              (None, 32)                1056      \n",
      "_________________________________________________________________\n",
      "dense_2 (Dense)              (None, 1)                 33        \n",
      "=================================================================\n",
      "Total params: 274,721\n",
      "Trainable params: 274,721\n",
      "Non-trainable params: 0\n",
      "_________________________________________________________________\n"
     ]
    }
   ],
   "source": [
    "# Construct our basic RNN model framework\n",
    "model = Sequential()\n",
    "\n",
    "model.add(Embedding(len(tokenizer.index_word)+1, 32))\n",
    "model.add(LSTM(32, dropout=0, recurrent_dropout=0))\n",
    "model.add(Dense(32, activation='relu'))\n",
    "model.add(Dense(1, activation='sigmoid'))\n",
    "model.summary()"
   ]
  },
  {
   "cell_type": "code",
   "execution_count": 6,
   "metadata": {},
   "outputs": [],
   "source": [
    "# Compile the model\n",
    "model.compile(optimizer='adam',\n",
    "              loss='binary_crossentropy',\n",
    "              metrics=['accuracy', precision_m, recall_m])"
   ]
  },
  {
   "cell_type": "code",
   "execution_count": 7,
   "metadata": {},
   "outputs": [
    {
     "name": "stderr",
     "output_type": "stream",
     "text": [
      "/home/acer/anaconda3/lib/python3.7/site-packages/tensorflow_core/python/framework/indexed_slices.py:424: UserWarning: Converting sparse IndexedSlices to a dense Tensor of unknown shape. This may consume a large amount of memory.\n",
      "  \"Converting sparse IndexedSlices to a dense Tensor of unknown shape. \"\n"
     ]
    },
    {
     "name": "stdout",
     "output_type": "stream",
     "text": [
      "Train on 4457 samples, validate on 1115 samples\n",
      "Epoch 1/10\n",
      "4457/4457 [==============================] - 7s 2ms/step - loss: 0.2580 - accuracy: 0.9172 - precision_m: 0.5353 - recall_m: 0.4154 - val_loss: 0.0751 - val_accuracy: 0.9794 - val_precision_m: 1.0000 - val_recall_m: 0.8682\n",
      "Epoch 2/10\n",
      "4457/4457 [==============================] - 4s 969us/step - loss: 0.0358 - accuracy: 0.9904 - precision_m: 0.9732 - recall_m: 0.9456 - val_loss: 0.0321 - val_accuracy: 0.9928 - val_precision_m: 0.9762 - val_recall_m: 0.9730\n",
      "Epoch 3/10\n",
      "4457/4457 [==============================] - 4s 925us/step - loss: 0.0126 - accuracy: 0.9957 - precision_m: 0.9821 - recall_m: 0.9729 - val_loss: 0.0341 - val_accuracy: 0.9946 - val_precision_m: 1.0000 - val_recall_m: 0.9683\n",
      "Epoch 4/10\n",
      "4457/4457 [==============================] - 4s 926us/step - loss: 0.0042 - accuracy: 0.9989 - precision_m: 1.0000 - recall_m: 0.9935 - val_loss: 0.0373 - val_accuracy: 0.9946 - val_precision_m: 1.0000 - val_recall_m: 0.9683\n",
      "Epoch 5/10\n",
      "4457/4457 [==============================] - 4s 931us/step - loss: 9.3220e-04 - accuracy: 0.9998 - precision_m: 0.9857 - recall_m: 0.9847 - val_loss: 0.0419 - val_accuracy: 0.9928 - val_precision_m: 0.9905 - val_recall_m: 0.9651\n",
      "Epoch 6/10\n",
      "4457/4457 [==============================] - 4s 926us/step - loss: 4.8294e-04 - accuracy: 1.0000 - precision_m: 0.9786 - recall_m: 0.9786 - val_loss: 0.0426 - val_accuracy: 0.9928 - val_precision_m: 0.9905 - val_recall_m: 0.9651\n",
      "Epoch 7/10\n",
      "4457/4457 [==============================] - 4s 936us/step - loss: 1.6592e-04 - accuracy: 1.0000 - precision_m: 0.9857 - recall_m: 0.9857 - val_loss: 0.0446 - val_accuracy: 0.9928 - val_precision_m: 0.9905 - val_recall_m: 0.9651\n",
      "Epoch 8/10\n",
      "4457/4457 [==============================] - 4s 936us/step - loss: 1.0830e-04 - accuracy: 1.0000 - precision_m: 0.9857 - recall_m: 0.9857 - val_loss: 0.0464 - val_accuracy: 0.9928 - val_precision_m: 0.9905 - val_recall_m: 0.9651\n",
      "Epoch 9/10\n",
      "4457/4457 [==============================] - 4s 935us/step - loss: 7.7271e-05 - accuracy: 1.0000 - precision_m: 0.9929 - recall_m: 0.9929 - val_loss: 0.0483 - val_accuracy: 0.9928 - val_precision_m: 0.9905 - val_recall_m: 0.9651\n",
      "Epoch 10/10\n",
      "4457/4457 [==============================] - 4s 928us/step - loss: 6.2058e-05 - accuracy: 1.0000 - precision_m: 0.9929 - recall_m: 0.9929 - val_loss: 0.0499 - val_accuracy: 0.9928 - val_precision_m: 0.9905 - val_recall_m: 0.9651\n"
     ]
    }
   ],
   "source": [
    "# Fit the RNN\n",
    "history = model.fit(X_train_seq_padded, y_train['label'], \n",
    "                    batch_size=32, epochs=10,\n",
    "                    validation_data=(X_test_seq_padded, y_test))"
   ]
  },
  {
   "cell_type": "code",
   "execution_count": 8,
   "metadata": {},
   "outputs": [
    {
     "data": {
      "image/png": "[encoded data removed]",
      "text/plain": [
       "<Figure size 432x288 with 1 Axes>"
      ]
     },
     "metadata": {
      "needs_background": "light"
     },
     "output_type": "display_data"
    },
    {
     "data": {
      "image/png": "[encoded data removed]",
      "text/plain": [
       "<Figure size 432x288 with 1 Axes>"
      ]
     },
     "metadata": {
      "needs_background": "light"
     },
     "output_type": "display_data"
    },
    {
     "data": {
      "image/png": "[encoded data removed]",
      "text/plain": [
       "<Figure size 432x288 with 1 Axes>"
      ]
     },
     "metadata": {
      "needs_background": "light"
     },
     "output_type": "display_data"
    }
   ],
   "source": [
    "# Plot basic evaluation metrics across epochs\n",
    "import matplotlib.pyplot as plt\n",
    "%matplotlib inline\n",
    "\n",
    "for i in ['accuracy', 'precision_m', 'recall_m']:\n",
    "    acc = history.history[i]\n",
    "    val_acc = history.history['val_{}'.format(i)]\n",
    "    epochs = range(1, len(acc) + 1)\n",
    "\n",
    "    plt.figure()\n",
    "    plt.plot(epochs, acc, label='Training Accuracy')\n",
    "    plt.plot(epochs, val_acc, label='Validation Accuracy')\n",
    "    plt.title('Results for {}'.format(i))\n",
    "    plt.legend()\n",
    "    plt.show()"
   ]
  },
  {
   "cell_type": "code",
   "execution_count": null,
   "metadata": {},
   "outputs": [],
   "source": []
  }
 ],
 "metadata": {
  "kernelspec": {
   "display_name": "Python 3",
   "language": "python",
   "name": "python3"
  },
  "language_info": {
   "codemirror_mode": {
    "name": "ipython",
    "version": 3
   },
   "file_extension": ".py",
   "mimetype": "text/x-python",
   "name": "python",
   "nbconvert_exporter": "python",
   "pygments_lexer": "ipython3",
   "version": "3.8.3"
  }
 },
 "nbformat": 4,
 "nbformat_minor": 2
}

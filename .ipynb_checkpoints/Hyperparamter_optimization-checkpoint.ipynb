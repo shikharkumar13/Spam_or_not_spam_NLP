{
 "cells": [
  {
   "cell_type": "markdown",
   "metadata": {
    "id": "f94SH-eeAPo3"
   },
   "source": [
    "# NLP Basics: Building A Basic Random Forest Model On Top Of Vectorized Text"
   ]
  },
  {
   "cell_type": "markdown",
   "metadata": {
    "id": "n8XRlX8mAPo4"
   },
   "source": [
    "### Read In & Clean Text"
   ]
  },
  {
   "cell_type": "code",
   "execution_count": null,
   "metadata": {
    "colab": {
     "base_uri": "https://localhost:8080/",
     "height": 54
    },
    "id": "PGXhQiq-Aal4",
    "outputId": "5786ba2a-3337-4ada-8e57-c460b6eed2e1"
   },
   "outputs": [
    {
     "name": "stdout",
     "output_type": "stream",
     "text": [
      "Drive already mounted at /content/drive; to attempt to forcibly remount, call drive.mount(\"/content/drive\", force_remount=True).\n"
     ]
    }
   ],
   "source": [
    "from google.colab import drive\n",
    "drive.mount('/content/drive')"
   ]
  },
  {
   "cell_type": "code",
   "execution_count": null,
   "metadata": {
    "colab": {
     "base_uri": "https://localhost:8080/",
     "height": 51
    },
    "id": "BYEzXu4rAPo6",
    "outputId": "c45280aa-dd82-4b0a-ab0a-7a330f80db50"
   },
   "outputs": [
    {
     "name": "stdout",
     "output_type": "stream",
     "text": [
      "[nltk_data] Downloading package stopwords to /root/nltk_data...\n",
      "[nltk_data]   Package stopwords is already up-to-date!\n"
     ]
    }
   ],
   "source": [
    "# Read in, clean, and vectorize data\n",
    "import nltk\n",
    "import numpy as np\n",
    "import pandas as pd\n",
    "import re\n",
    "from sklearn.feature_extraction.text import TfidfVectorizer\n",
    "import string\n",
    "\n",
    "nltk.download(\"stopwords\")\n",
    "stopwords = nltk.corpus.stopwords.words('english')\n",
    "\n",
    "messages = pd.read_csv('/content/drive/My Drive/Portfolio/dataset/data/spam.csv', encoding='latin-1')\n",
    "messages = messages.drop(labels = [\"Unnamed: 2\", \"Unnamed: 3\", \"Unnamed: 4\"], axis = 1)\n",
    "messages.columns = [\"label\", \"text\"]\n",
    "\n",
    "def clean_text(text):\n",
    "    text = \"\".join([word.lower() for word in text if word not in string.punctuation])\n",
    "    tokens = re.split('\\W+', text)\n",
    "    text = [word for word in tokens if word not in stopwords]\n",
    "    return text\n",
    "\n",
    "tfidf_vect = TfidfVectorizer(analyzer=clean_text)\n",
    "X_tfidf = tfidf_vect.fit_transform(messages['text'])\n",
    "\n",
    "X_features = pd.DataFrame(X_tfidf.toarray())"
   ]
  },
  {
   "cell_type": "code",
   "execution_count": 106,
   "metadata": {
    "colab": {
     "base_uri": "https://localhost:8080/",
     "height": 204
    },
    "id": "WTtvSGfDA-Pi",
    "outputId": "eb3f6534-e2f7-4cba-e4f0-91e2945603e2"
   },
   "outputs": [
    {
     "data": {
      "text/html": [
       "<div>\n",
       "<style scoped>\n",
       "    .dataframe tbody tr th:only-of-type {\n",
       "        vertical-align: middle;\n",
       "    }\n",
       "\n",
       "    .dataframe tbody tr th {\n",
       "        vertical-align: top;\n",
       "    }\n",
       "\n",
       "    .dataframe thead th {\n",
       "        text-align: right;\n",
       "    }\n",
       "</style>\n",
       "<table border=\"1\" class=\"dataframe\">\n",
       "  <thead>\n",
       "    <tr style=\"text-align: right;\">\n",
       "      <th></th>\n",
       "      <th>label</th>\n",
       "      <th>text</th>\n",
       "    </tr>\n",
       "  </thead>\n",
       "  <tbody>\n",
       "    <tr>\n",
       "      <th>0</th>\n",
       "      <td>ham</td>\n",
       "      <td>Go until jurong point, crazy.. Available only ...</td>\n",
       "    </tr>\n",
       "    <tr>\n",
       "      <th>1</th>\n",
       "      <td>ham</td>\n",
       "      <td>Ok lar... Joking wif u oni...</td>\n",
       "    </tr>\n",
       "    <tr>\n",
       "      <th>2</th>\n",
       "      <td>spam</td>\n",
       "      <td>Free entry in 2 a wkly comp to win FA Cup fina...</td>\n",
       "    </tr>\n",
       "    <tr>\n",
       "      <th>3</th>\n",
       "      <td>ham</td>\n",
       "      <td>U dun say so early hor... U c already then say...</td>\n",
       "    </tr>\n",
       "    <tr>\n",
       "      <th>4</th>\n",
       "      <td>ham</td>\n",
       "      <td>Nah I don't think he goes to usf, he lives aro...</td>\n",
       "    </tr>\n",
       "  </tbody>\n",
       "</table>\n",
       "</div>"
      ],
      "text/plain": [
       "  label                                               text\n",
       "0   ham  Go until jurong point, crazy.. Available only ...\n",
       "1   ham                      Ok lar... Joking wif u oni...\n",
       "2  spam  Free entry in 2 a wkly comp to win FA Cup fina...\n",
       "3   ham  U dun say so early hor... U c already then say...\n",
       "4   ham  Nah I don't think he goes to usf, he lives aro..."
      ]
     },
     "execution_count": 106,
     "metadata": {
      "tags": []
     },
     "output_type": "execute_result"
    }
   ],
   "source": [
    "messages.head()"
   ]
  },
  {
   "cell_type": "markdown",
   "metadata": {
    "id": "whc7-9roAPpC"
   },
   "source": [
    "### Explore RandomForestClassifier Attributes & Hyperparameters"
   ]
  },
  {
   "cell_type": "code",
   "execution_count": null,
   "metadata": {
    "id": "DP6btr0FAPpD"
   },
   "outputs": [],
   "source": [
    "# Import Random Forest for classification from sklearn\n",
    "from sklearn.ensemble import RandomForestClassifier"
   ]
  },
  {
   "cell_type": "code",
   "execution_count": null,
   "metadata": {
    "colab": {
     "base_uri": "https://localhost:8080/",
     "height": 173
    },
    "id": "t9DpFlQrAPpJ",
    "outputId": "bacb6bc0-e60f-439c-cd2c-76366d88b47b"
   },
   "outputs": [
    {
     "name": "stdout",
     "output_type": "stream",
     "text": [
      "RandomForestClassifier(bootstrap=True, ccp_alpha=0.0, class_weight=None,\n",
      "                       criterion='gini', max_depth=None, max_features='auto',\n",
      "                       max_leaf_nodes=None, max_samples=None,\n",
      "                       min_impurity_decrease=0.0, min_impurity_split=None,\n",
      "                       min_samples_leaf=1, min_samples_split=2,\n",
      "                       min_weight_fraction_leaf=0.0, n_estimators=100,\n",
      "                       n_jobs=None, oob_score=False, random_state=None,\n",
      "                       verbose=0, warm_start=False)\n"
     ]
    }
   ],
   "source": [
    "# View the arguments (and default values) for RandomForestClassifier\n",
    "print(RandomForestClassifier())"
   ]
  },
  {
   "cell_type": "markdown",
   "metadata": {
    "id": "mhQK9EpQAPpR"
   },
   "source": [
    "### Explore RandomForestClassifier using different optimization libraries"
   ]
  },
  {
   "cell_type": "code",
   "execution_count": null,
   "metadata": {
    "id": "gTlRGdM-APpS"
   },
   "outputs": [],
   "source": [
    "# Import the methods that will be needed to evaluate a basic model\n",
    "from sklearn.metrics import precision_score, recall_score, accuracy_score\n",
    "from sklearn.model_selection import train_test_split"
   ]
  },
  {
   "cell_type": "code",
   "execution_count": null,
   "metadata": {
    "id": "0xs85oMdAPpX"
   },
   "outputs": [],
   "source": [
    "# Split data into training and test sets\n",
    "X_train, X_test, y_train, y_test = train_test_split(X_features,\n",
    "                                                    messages['label'],\n",
    "                                                    test_size=0.2)"
   ]
  },
  {
   "cell_type": "code",
   "execution_count": null,
   "metadata": {
    "id": "KYdNXzdWAPpd"
   },
   "outputs": [],
   "source": [
    "# Fit a basic Random Forest model\n",
    "rc = RandomForestClassifier(n_jobs=-1)\n",
    "rc.fit(X_train, y_train)\n",
    "y_pred = rc.predict(X_test)"
   ]
  },
  {
   "cell_type": "code",
   "execution_count": null,
   "metadata": {
    "colab": {
     "base_uri": "https://localhost:8080/",
     "height": 34
    },
    "id": "SstEi9GmAPpk",
    "outputId": "bc54b370-b81f-440b-ea39-c0dfba15f43a"
   },
   "outputs": [
    {
     "name": "stdout",
     "output_type": "stream",
     "text": [
      "Accuracy : 0.973 / Precision: 1.0 / Recall: 0.808\n"
     ]
    }
   ],
   "source": [
    "# Evalute model predictions using precision and recall\n",
    "precision = precision_score(y_test, y_pred, pos_label='spam')\n",
    "recall = recall_score(y_test, y_pred, pos_label='spam')\n",
    "accuracy = accuracy_score(y_test, y_pred)\n",
    "print('Accuracy : {} / Precision: {} / Recall: {}'.format(round(accuracy, 3), round(precision, 3), round(recall, 3)))"
   ]
  },
  {
   "cell_type": "markdown",
   "metadata": {
    "id": "z8sftgC8APpq"
   },
   "source": [
    "# GridSearchCV"
   ]
  },
  {
   "cell_type": "code",
   "execution_count": null,
   "metadata": {
    "id": "clcl54qFAPpr"
   },
   "outputs": [],
   "source": [
    "from sklearn.model_selection import GridSearchCV"
   ]
  },
  {
   "cell_type": "code",
   "execution_count": null,
   "metadata": {
    "colab": {
     "base_uri": "https://localhost:8080/",
     "height": 1000
    },
    "id": "lNCVpHzTAPpy",
    "outputId": "7027ef17-c9f1-403a-cd6d-54417b602412"
   },
   "outputs": [
    {
     "name": "stdout",
     "output_type": "stream",
     "text": [
      "Fitting 5 folds for each of 24 candidates, totalling 120 fits\n",
      "[CV] criterion=gini, max_depth=None, n_estimators=100 ................\n"
     ]
    },
    {
     "name": "stderr",
     "output_type": "stream",
     "text": [
      "[Parallel(n_jobs=1)]: Using backend SequentialBackend with 1 concurrent workers.\n"
     ]
    },
    {
     "name": "stdout",
     "output_type": "stream",
     "text": [
      "[CV]  criterion=gini, max_depth=None, n_estimators=100, score=0.960, total=  27.6s\n",
      "[CV] criterion=gini, max_depth=None, n_estimators=100 ................\n"
     ]
    },
    {
     "name": "stderr",
     "output_type": "stream",
     "text": [
      "[Parallel(n_jobs=1)]: Done   1 out of   1 | elapsed:   27.6s remaining:    0.0s\n"
     ]
    },
    {
     "name": "stdout",
     "output_type": "stream",
     "text": [
      "[CV]  criterion=gini, max_depth=None, n_estimators=100, score=0.971, total=  27.1s\n",
      "[CV] criterion=gini, max_depth=None, n_estimators=100 ................\n"
     ]
    },
    {
     "name": "stderr",
     "output_type": "stream",
     "text": [
      "[Parallel(n_jobs=1)]: Done   2 out of   2 | elapsed:   54.7s remaining:    0.0s\n"
     ]
    },
    {
     "name": "stdout",
     "output_type": "stream",
     "text": [
      "[CV]  criterion=gini, max_depth=None, n_estimators=100, score=0.975, total=  27.8s\n",
      "[CV] criterion=gini, max_depth=None, n_estimators=100 ................\n"
     ]
    },
    {
     "name": "stderr",
     "output_type": "stream",
     "text": [
      "[Parallel(n_jobs=1)]: Done   3 out of   3 | elapsed:  1.4min remaining:    0.0s\n"
     ]
    },
    {
     "name": "stdout",
     "output_type": "stream",
     "text": [
      "[CV]  criterion=gini, max_depth=None, n_estimators=100, score=0.971, total=  26.2s\n",
      "[CV] criterion=gini, max_depth=None, n_estimators=100 ................\n"
     ]
    },
    {
     "name": "stderr",
     "output_type": "stream",
     "text": [
      "[Parallel(n_jobs=1)]: Done   4 out of   4 | elapsed:  1.8min remaining:    0.0s\n"
     ]
    },
    {
     "name": "stdout",
     "output_type": "stream",
     "text": [
      "[CV]  criterion=gini, max_depth=None, n_estimators=100, score=0.971, total=  26.5s\n",
      "[CV] criterion=gini, max_depth=None, n_estimators=150 ................\n"
     ]
    },
    {
     "name": "stderr",
     "output_type": "stream",
     "text": [
      "[Parallel(n_jobs=1)]: Done   5 out of   5 | elapsed:  2.3min remaining:    0.0s\n"
     ]
    },
    {
     "name": "stdout",
     "output_type": "stream",
     "text": [
      "[CV]  criterion=gini, max_depth=None, n_estimators=150, score=0.964, total=  39.8s\n",
      "[CV] criterion=gini, max_depth=None, n_estimators=150 ................\n"
     ]
    },
    {
     "name": "stderr",
     "output_type": "stream",
     "text": [
      "[Parallel(n_jobs=1)]: Done   6 out of   6 | elapsed:  2.9min remaining:    0.0s\n"
     ]
    },
    {
     "name": "stdout",
     "output_type": "stream",
     "text": [
      "[CV]  criterion=gini, max_depth=None, n_estimators=150, score=0.966, total=  41.1s\n",
      "[CV] criterion=gini, max_depth=None, n_estimators=150 ................\n"
     ]
    },
    {
     "name": "stderr",
     "output_type": "stream",
     "text": [
      "[Parallel(n_jobs=1)]: Done   7 out of   7 | elapsed:  3.6min remaining:    0.0s\n"
     ]
    },
    {
     "name": "stdout",
     "output_type": "stream",
     "text": [
      "[CV]  criterion=gini, max_depth=None, n_estimators=150, score=0.974, total=  41.7s\n",
      "[CV] criterion=gini, max_depth=None, n_estimators=150 ................\n"
     ]
    },
    {
     "name": "stderr",
     "output_type": "stream",
     "text": [
      "[Parallel(n_jobs=1)]: Done   8 out of   8 | elapsed:  4.3min remaining:    0.0s\n"
     ]
    },
    {
     "name": "stdout",
     "output_type": "stream",
     "text": [
      "[CV]  criterion=gini, max_depth=None, n_estimators=150, score=0.970, total=  39.5s\n",
      "[CV] criterion=gini, max_depth=None, n_estimators=150 ................\n"
     ]
    },
    {
     "name": "stderr",
     "output_type": "stream",
     "text": [
      "[Parallel(n_jobs=1)]: Done   9 out of   9 | elapsed:  5.0min remaining:    0.0s\n"
     ]
    },
    {
     "name": "stdout",
     "output_type": "stream",
     "text": [
      "[CV]  criterion=gini, max_depth=None, n_estimators=150, score=0.972, total=  41.6s\n",
      "[CV] criterion=gini, max_depth=None, n_estimators=200 ................\n",
      "[CV]  criterion=gini, max_depth=None, n_estimators=200, score=0.962, total=  54.2s\n",
      "[CV] criterion=gini, max_depth=None, n_estimators=200 ................\n",
      "[CV]  criterion=gini, max_depth=None, n_estimators=200, score=0.970, total=  55.4s\n",
      "[CV] criterion=gini, max_depth=None, n_estimators=200 ................\n",
      "[CV]  criterion=gini, max_depth=None, n_estimators=200, score=0.973, total=  55.9s\n",
      "[CV] criterion=gini, max_depth=None, n_estimators=200 ................\n",
      "[CV]  criterion=gini, max_depth=None, n_estimators=200, score=0.970, total=  53.7s\n",
      "[CV] criterion=gini, max_depth=None, n_estimators=200 ................\n",
      "[CV]  criterion=gini, max_depth=None, n_estimators=200, score=0.975, total= 1.0min\n",
      "[CV] criterion=gini, max_depth=2, n_estimators=100 ...................\n",
      "[CV]  criterion=gini, max_depth=2, n_estimators=100, score=0.868, total=   1.7s\n",
      "[CV] criterion=gini, max_depth=2, n_estimators=100 ...................\n",
      "[CV]  criterion=gini, max_depth=2, n_estimators=100, score=0.867, total=   1.6s\n",
      "[CV] criterion=gini, max_depth=2, n_estimators=100 ...................\n",
      "[CV]  criterion=gini, max_depth=2, n_estimators=100, score=0.868, total=   1.6s\n",
      "[CV] criterion=gini, max_depth=2, n_estimators=100 ...................\n",
      "[CV]  criterion=gini, max_depth=2, n_estimators=100, score=0.868, total=   1.6s\n",
      "[CV] criterion=gini, max_depth=2, n_estimators=100 ...................\n",
      "[CV]  criterion=gini, max_depth=2, n_estimators=100, score=0.868, total=   1.6s\n",
      "[CV] criterion=gini, max_depth=2, n_estimators=150 ...................\n",
      "[CV]  criterion=gini, max_depth=2, n_estimators=150, score=0.868, total=   2.2s\n",
      "[CV] criterion=gini, max_depth=2, n_estimators=150 ...................\n",
      "[CV]  criterion=gini, max_depth=2, n_estimators=150, score=0.867, total=   2.2s\n",
      "[CV] criterion=gini, max_depth=2, n_estimators=150 ...................\n",
      "[CV]  criterion=gini, max_depth=2, n_estimators=150, score=0.868, total=   2.2s\n",
      "[CV] criterion=gini, max_depth=2, n_estimators=150 ...................\n",
      "[CV]  criterion=gini, max_depth=2, n_estimators=150, score=0.868, total=   2.1s\n",
      "[CV] criterion=gini, max_depth=2, n_estimators=150 ...................\n",
      "[CV]  criterion=gini, max_depth=2, n_estimators=150, score=0.868, total=   2.1s\n",
      "[CV] criterion=gini, max_depth=2, n_estimators=200 ...................\n",
      "[CV]  criterion=gini, max_depth=2, n_estimators=200, score=0.868, total=   2.9s\n",
      "[CV] criterion=gini, max_depth=2, n_estimators=200 ...................\n",
      "[CV]  criterion=gini, max_depth=2, n_estimators=200, score=0.867, total=   3.0s\n",
      "[CV] criterion=gini, max_depth=2, n_estimators=200 ...................\n",
      "[CV]  criterion=gini, max_depth=2, n_estimators=200, score=0.868, total=   2.8s\n",
      "[CV] criterion=gini, max_depth=2, n_estimators=200 ...................\n",
      "[CV]  criterion=gini, max_depth=2, n_estimators=200, score=0.868, total=   2.6s\n",
      "[CV] criterion=gini, max_depth=2, n_estimators=200 ...................\n",
      "[CV]  criterion=gini, max_depth=2, n_estimators=200, score=0.868, total=   2.5s\n",
      "[CV] criterion=gini, max_depth=3, n_estimators=100 ...................\n",
      "[CV]  criterion=gini, max_depth=3, n_estimators=100, score=0.868, total=   2.0s\n",
      "[CV] criterion=gini, max_depth=3, n_estimators=100 ...................\n",
      "[CV]  criterion=gini, max_depth=3, n_estimators=100, score=0.867, total=   2.0s\n",
      "[CV] criterion=gini, max_depth=3, n_estimators=100 ...................\n",
      "[CV]  criterion=gini, max_depth=3, n_estimators=100, score=0.868, total=   2.0s\n",
      "[CV] criterion=gini, max_depth=3, n_estimators=100 ...................\n",
      "[CV]  criterion=gini, max_depth=3, n_estimators=100, score=0.868, total=   2.0s\n",
      "[CV] criterion=gini, max_depth=3, n_estimators=100 ...................\n",
      "[CV]  criterion=gini, max_depth=3, n_estimators=100, score=0.868, total=   2.0s\n",
      "[CV] criterion=gini, max_depth=3, n_estimators=150 ...................\n",
      "[CV]  criterion=gini, max_depth=3, n_estimators=150, score=0.868, total=   2.7s\n",
      "[CV] criterion=gini, max_depth=3, n_estimators=150 ...................\n",
      "[CV]  criterion=gini, max_depth=3, n_estimators=150, score=0.867, total=   2.7s\n",
      "[CV] criterion=gini, max_depth=3, n_estimators=150 ...................\n",
      "[CV]  criterion=gini, max_depth=3, n_estimators=150, score=0.868, total=   2.7s\n",
      "[CV] criterion=gini, max_depth=3, n_estimators=150 ...................\n",
      "[CV]  criterion=gini, max_depth=3, n_estimators=150, score=0.868, total=   2.7s\n",
      "[CV] criterion=gini, max_depth=3, n_estimators=150 ...................\n",
      "[CV]  criterion=gini, max_depth=3, n_estimators=150, score=0.868, total=   2.8s\n",
      "[CV] criterion=gini, max_depth=3, n_estimators=200 ...................\n",
      "[CV]  criterion=gini, max_depth=3, n_estimators=200, score=0.868, total=   3.5s\n",
      "[CV] criterion=gini, max_depth=3, n_estimators=200 ...................\n",
      "[CV]  criterion=gini, max_depth=3, n_estimators=200, score=0.867, total=   3.4s\n",
      "[CV] criterion=gini, max_depth=3, n_estimators=200 ...................\n",
      "[CV]  criterion=gini, max_depth=3, n_estimators=200, score=0.868, total=   3.4s\n",
      "[CV] criterion=gini, max_depth=3, n_estimators=200 ...................\n",
      "[CV]  criterion=gini, max_depth=3, n_estimators=200, score=0.868, total=   3.4s\n",
      "[CV] criterion=gini, max_depth=3, n_estimators=200 ...................\n",
      "[CV]  criterion=gini, max_depth=3, n_estimators=200, score=0.868, total=   3.4s\n",
      "[CV] criterion=gini, max_depth=4, n_estimators=100 ...................\n",
      "[CV]  criterion=gini, max_depth=4, n_estimators=100, score=0.868, total=   2.4s\n",
      "[CV] criterion=gini, max_depth=4, n_estimators=100 ...................\n",
      "[CV]  criterion=gini, max_depth=4, n_estimators=100, score=0.867, total=   2.4s\n",
      "[CV] criterion=gini, max_depth=4, n_estimators=100 ...................\n",
      "[CV]  criterion=gini, max_depth=4, n_estimators=100, score=0.868, total=   2.4s\n",
      "[CV] criterion=gini, max_depth=4, n_estimators=100 ...................\n",
      "[CV]  criterion=gini, max_depth=4, n_estimators=100, score=0.868, total=   2.4s\n",
      "[CV] criterion=gini, max_depth=4, n_estimators=100 ...................\n",
      "[CV]  criterion=gini, max_depth=4, n_estimators=100, score=0.868, total=   2.4s\n",
      "[CV] criterion=gini, max_depth=4, n_estimators=150 ...................\n",
      "[CV]  criterion=gini, max_depth=4, n_estimators=150, score=0.868, total=   3.4s\n",
      "[CV] criterion=gini, max_depth=4, n_estimators=150 ...................\n",
      "[CV]  criterion=gini, max_depth=4, n_estimators=150, score=0.867, total=   3.4s\n",
      "[CV] criterion=gini, max_depth=4, n_estimators=150 ...................\n",
      "[CV]  criterion=gini, max_depth=4, n_estimators=150, score=0.868, total=   3.3s\n",
      "[CV] criterion=gini, max_depth=4, n_estimators=150 ...................\n",
      "[CV]  criterion=gini, max_depth=4, n_estimators=150, score=0.868, total=   3.4s\n",
      "[CV] criterion=gini, max_depth=4, n_estimators=150 ...................\n",
      "[CV]  criterion=gini, max_depth=4, n_estimators=150, score=0.868, total=   3.4s\n",
      "[CV] criterion=gini, max_depth=4, n_estimators=200 ...................\n",
      "[CV]  criterion=gini, max_depth=4, n_estimators=200, score=0.868, total=   4.3s\n",
      "[CV] criterion=gini, max_depth=4, n_estimators=200 ...................\n",
      "[CV]  criterion=gini, max_depth=4, n_estimators=200, score=0.867, total=   4.3s\n",
      "[CV] criterion=gini, max_depth=4, n_estimators=200 ...................\n",
      "[CV]  criterion=gini, max_depth=4, n_estimators=200, score=0.868, total=   4.3s\n",
      "[CV] criterion=gini, max_depth=4, n_estimators=200 ...................\n",
      "[CV]  criterion=gini, max_depth=4, n_estimators=200, score=0.868, total=   4.4s\n",
      "[CV] criterion=gini, max_depth=4, n_estimators=200 ...................\n",
      "[CV]  criterion=gini, max_depth=4, n_estimators=200, score=0.868, total=   4.4s\n",
      "[CV] criterion=entropy, max_depth=None, n_estimators=100 .............\n",
      "[CV]  criterion=entropy, max_depth=None, n_estimators=100, score=0.960, total=  28.7s\n",
      "[CV] criterion=entropy, max_depth=None, n_estimators=100 .............\n",
      "[CV]  criterion=entropy, max_depth=None, n_estimators=100, score=0.969, total=  29.5s\n",
      "[CV] criterion=entropy, max_depth=None, n_estimators=100 .............\n",
      "[CV]  criterion=entropy, max_depth=None, n_estimators=100, score=0.973, total=  29.0s\n",
      "[CV] criterion=entropy, max_depth=None, n_estimators=100 .............\n",
      "[CV]  criterion=entropy, max_depth=None, n_estimators=100, score=0.967, total=  28.3s\n",
      "[CV] criterion=entropy, max_depth=None, n_estimators=100 .............\n",
      "[CV]  criterion=entropy, max_depth=None, n_estimators=100, score=0.964, total=  27.9s\n",
      "[CV] criterion=entropy, max_depth=None, n_estimators=150 .............\n",
      "[CV]  criterion=entropy, max_depth=None, n_estimators=150, score=0.960, total=  43.8s\n",
      "[CV] criterion=entropy, max_depth=None, n_estimators=150 .............\n",
      "[CV]  criterion=entropy, max_depth=None, n_estimators=150, score=0.971, total=  43.6s\n",
      "[CV] criterion=entropy, max_depth=None, n_estimators=150 .............\n",
      "[CV]  criterion=entropy, max_depth=None, n_estimators=150, score=0.974, total=  42.9s\n",
      "[CV] criterion=entropy, max_depth=None, n_estimators=150 .............\n",
      "[CV]  criterion=entropy, max_depth=None, n_estimators=150, score=0.969, total=  42.0s\n",
      "[CV] criterion=entropy, max_depth=None, n_estimators=150 .............\n",
      "[CV]  criterion=entropy, max_depth=None, n_estimators=150, score=0.974, total=  42.6s\n",
      "[CV] criterion=entropy, max_depth=None, n_estimators=200 .............\n",
      "[CV]  criterion=entropy, max_depth=None, n_estimators=200, score=0.961, total=  56.4s\n",
      "[CV] criterion=entropy, max_depth=None, n_estimators=200 .............\n",
      "[CV]  criterion=entropy, max_depth=None, n_estimators=200, score=0.967, total= 1.0min\n",
      "[CV] criterion=entropy, max_depth=None, n_estimators=200 .............\n",
      "[CV]  criterion=entropy, max_depth=None, n_estimators=200, score=0.974, total= 1.0min\n",
      "[CV] criterion=entropy, max_depth=None, n_estimators=200 .............\n",
      "[CV]  criterion=entropy, max_depth=None, n_estimators=200, score=0.967, total=  58.8s\n",
      "[CV] criterion=entropy, max_depth=None, n_estimators=200 .............\n",
      "[CV]  criterion=entropy, max_depth=None, n_estimators=200, score=0.965, total= 1.0min\n",
      "[CV] criterion=entropy, max_depth=2, n_estimators=100 ................\n",
      "[CV]  criterion=entropy, max_depth=2, n_estimators=100, score=0.868, total=   1.7s\n",
      "[CV] criterion=entropy, max_depth=2, n_estimators=100 ................\n",
      "[CV]  criterion=entropy, max_depth=2, n_estimators=100, score=0.867, total=   1.7s\n",
      "[CV] criterion=entropy, max_depth=2, n_estimators=100 ................\n",
      "[CV]  criterion=entropy, max_depth=2, n_estimators=100, score=0.868, total=   1.7s\n",
      "[CV] criterion=entropy, max_depth=2, n_estimators=100 ................\n",
      "[CV]  criterion=entropy, max_depth=2, n_estimators=100, score=0.868, total=   1.7s\n",
      "[CV] criterion=entropy, max_depth=2, n_estimators=100 ................\n",
      "[CV]  criterion=entropy, max_depth=2, n_estimators=100, score=0.868, total=   1.7s\n",
      "[CV] criterion=entropy, max_depth=2, n_estimators=150 ................\n",
      "[CV]  criterion=entropy, max_depth=2, n_estimators=150, score=0.868, total=   2.3s\n",
      "[CV] criterion=entropy, max_depth=2, n_estimators=150 ................\n",
      "[CV]  criterion=entropy, max_depth=2, n_estimators=150, score=0.867, total=   2.3s\n",
      "[CV] criterion=entropy, max_depth=2, n_estimators=150 ................\n",
      "[CV]  criterion=entropy, max_depth=2, n_estimators=150, score=0.868, total=   2.2s\n",
      "[CV] criterion=entropy, max_depth=2, n_estimators=150 ................\n",
      "[CV]  criterion=entropy, max_depth=2, n_estimators=150, score=0.868, total=   2.2s\n",
      "[CV] criterion=entropy, max_depth=2, n_estimators=150 ................\n",
      "[CV]  criterion=entropy, max_depth=2, n_estimators=150, score=0.868, total=   2.2s\n",
      "[CV] criterion=entropy, max_depth=2, n_estimators=200 ................\n",
      "[CV]  criterion=entropy, max_depth=2, n_estimators=200, score=0.868, total=   2.8s\n",
      "[CV] criterion=entropy, max_depth=2, n_estimators=200 ................\n",
      "[CV]  criterion=entropy, max_depth=2, n_estimators=200, score=0.867, total=   2.8s\n",
      "[CV] criterion=entropy, max_depth=2, n_estimators=200 ................\n",
      "[CV]  criterion=entropy, max_depth=2, n_estimators=200, score=0.868, total=   2.8s\n",
      "[CV] criterion=entropy, max_depth=2, n_estimators=200 ................\n",
      "[CV]  criterion=entropy, max_depth=2, n_estimators=200, score=0.868, total=   2.8s\n",
      "[CV] criterion=entropy, max_depth=2, n_estimators=200 ................\n",
      "[CV]  criterion=entropy, max_depth=2, n_estimators=200, score=0.868, total=   2.8s\n",
      "[CV] criterion=entropy, max_depth=3, n_estimators=100 ................\n",
      "[CV]  criterion=entropy, max_depth=3, n_estimators=100, score=0.868, total=   2.1s\n",
      "[CV] criterion=entropy, max_depth=3, n_estimators=100 ................\n",
      "[CV]  criterion=entropy, max_depth=3, n_estimators=100, score=0.867, total=   2.2s\n",
      "[CV] criterion=entropy, max_depth=3, n_estimators=100 ................\n",
      "[CV]  criterion=entropy, max_depth=3, n_estimators=100, score=0.868, total=   2.1s\n",
      "[CV] criterion=entropy, max_depth=3, n_estimators=100 ................\n",
      "[CV]  criterion=entropy, max_depth=3, n_estimators=100, score=0.868, total=   2.2s\n",
      "[CV] criterion=entropy, max_depth=3, n_estimators=100 ................\n",
      "[CV]  criterion=entropy, max_depth=3, n_estimators=100, score=0.868, total=   2.2s\n",
      "[CV] criterion=entropy, max_depth=3, n_estimators=150 ................\n",
      "[CV]  criterion=entropy, max_depth=3, n_estimators=150, score=0.868, total=   2.9s\n",
      "[CV] criterion=entropy, max_depth=3, n_estimators=150 ................\n",
      "[CV]  criterion=entropy, max_depth=3, n_estimators=150, score=0.867, total=   2.9s\n",
      "[CV] criterion=entropy, max_depth=3, n_estimators=150 ................\n",
      "[CV]  criterion=entropy, max_depth=3, n_estimators=150, score=0.868, total=   2.9s\n",
      "[CV] criterion=entropy, max_depth=3, n_estimators=150 ................\n",
      "[CV]  criterion=entropy, max_depth=3, n_estimators=150, score=0.868, total=   2.9s\n",
      "[CV] criterion=entropy, max_depth=3, n_estimators=150 ................\n",
      "[CV]  criterion=entropy, max_depth=3, n_estimators=150, score=0.868, total=   2.9s\n",
      "[CV] criterion=entropy, max_depth=3, n_estimators=200 ................\n",
      "[CV]  criterion=entropy, max_depth=3, n_estimators=200, score=0.868, total=   3.8s\n",
      "[CV] criterion=entropy, max_depth=3, n_estimators=200 ................\n",
      "[CV]  criterion=entropy, max_depth=3, n_estimators=200, score=0.867, total=   3.7s\n",
      "[CV] criterion=entropy, max_depth=3, n_estimators=200 ................\n",
      "[CV]  criterion=entropy, max_depth=3, n_estimators=200, score=0.868, total=   3.7s\n",
      "[CV] criterion=entropy, max_depth=3, n_estimators=200 ................\n",
      "[CV]  criterion=entropy, max_depth=3, n_estimators=200, score=0.868, total=   3.8s\n",
      "[CV] criterion=entropy, max_depth=3, n_estimators=200 ................\n",
      "[CV]  criterion=entropy, max_depth=3, n_estimators=200, score=0.868, total=   3.6s\n",
      "[CV] criterion=entropy, max_depth=4, n_estimators=100 ................\n",
      "[CV]  criterion=entropy, max_depth=4, n_estimators=100, score=0.868, total=   2.6s\n",
      "[CV] criterion=entropy, max_depth=4, n_estimators=100 ................\n",
      "[CV]  criterion=entropy, max_depth=4, n_estimators=100, score=0.867, total=   2.6s\n",
      "[CV] criterion=entropy, max_depth=4, n_estimators=100 ................\n",
      "[CV]  criterion=entropy, max_depth=4, n_estimators=100, score=0.868, total=   2.6s\n",
      "[CV] criterion=entropy, max_depth=4, n_estimators=100 ................\n",
      "[CV]  criterion=entropy, max_depth=4, n_estimators=100, score=0.868, total=   2.6s\n",
      "[CV] criterion=entropy, max_depth=4, n_estimators=100 ................\n",
      "[CV]  criterion=entropy, max_depth=4, n_estimators=100, score=0.868, total=   2.6s\n",
      "[CV] criterion=entropy, max_depth=4, n_estimators=150 ................\n",
      "[CV]  criterion=entropy, max_depth=4, n_estimators=150, score=0.868, total=   3.6s\n",
      "[CV] criterion=entropy, max_depth=4, n_estimators=150 ................\n",
      "[CV]  criterion=entropy, max_depth=4, n_estimators=150, score=0.867, total=   3.6s\n",
      "[CV] criterion=entropy, max_depth=4, n_estimators=150 ................\n",
      "[CV]  criterion=entropy, max_depth=4, n_estimators=150, score=0.868, total=   3.6s\n",
      "[CV] criterion=entropy, max_depth=4, n_estimators=150 ................\n",
      "[CV]  criterion=entropy, max_depth=4, n_estimators=150, score=0.868, total=   3.7s\n",
      "[CV] criterion=entropy, max_depth=4, n_estimators=150 ................\n",
      "[CV]  criterion=entropy, max_depth=4, n_estimators=150, score=0.868, total=   3.6s\n",
      "[CV] criterion=entropy, max_depth=4, n_estimators=200 ................\n",
      "[CV]  criterion=entropy, max_depth=4, n_estimators=200, score=0.868, total=   4.6s\n",
      "[CV] criterion=entropy, max_depth=4, n_estimators=200 ................\n",
      "[CV]  criterion=entropy, max_depth=4, n_estimators=200, score=0.867, total=   4.6s\n",
      "[CV] criterion=entropy, max_depth=4, n_estimators=200 ................\n",
      "[CV]  criterion=entropy, max_depth=4, n_estimators=200, score=0.868, total=   4.6s\n",
      "[CV] criterion=entropy, max_depth=4, n_estimators=200 ................\n",
      "[CV]  criterion=entropy, max_depth=4, n_estimators=200, score=0.868, total=   4.6s\n",
      "[CV] criterion=entropy, max_depth=4, n_estimators=200 ................\n",
      "[CV]  criterion=entropy, max_depth=4, n_estimators=200, score=0.869, total=   4.6s\n"
     ]
    },
    {
     "name": "stderr",
     "output_type": "stream",
     "text": [
      "[Parallel(n_jobs=1)]: Done 120 out of 120 | elapsed: 25.6min finished\n"
     ]
    },
    {
     "data": {
      "text/plain": [
       "GridSearchCV(cv=5, error_score=nan,\n",
       "             estimator=RandomForestClassifier(bootstrap=True, ccp_alpha=0.0,\n",
       "                                              class_weight=None,\n",
       "                                              criterion='gini', max_depth=None,\n",
       "                                              max_features='auto',\n",
       "                                              max_leaf_nodes=None,\n",
       "                                              max_samples=None,\n",
       "                                              min_impurity_decrease=0.0,\n",
       "                                              min_impurity_split=None,\n",
       "                                              min_samples_leaf=1,\n",
       "                                              min_samples_split=2,\n",
       "                                              min_weight_fraction_leaf=0.0,\n",
       "                                              n_estimators=100, n_jobs=-1,\n",
       "                                              oob_score=False,\n",
       "                                              random_state=None, verbose=0,\n",
       "                                              warm_start=False),\n",
       "             iid='deprecated', n_jobs=1,\n",
       "             param_grid={'criterion': ['gini', 'entropy'],\n",
       "                         'max_depth': [None, 2, 3, 4],\n",
       "                         'n_estimators': [100, 150, 200]},\n",
       "             pre_dispatch='2*n_jobs', refit=True, return_train_score=False,\n",
       "             scoring='accuracy', verbose=10)"
      ]
     },
     "execution_count": 28,
     "metadata": {
      "tags": []
     },
     "output_type": "execute_result"
    }
   ],
   "source": [
    "param_grid = {\n",
    "    \"n_estimators\" : [100, 150, 200],\n",
    "    \"max_depth\" : [None, 2,3,4],\n",
    "    \"criterion\" : [\"gini\", \"entropy\"]\n",
    "    }\n",
    "\n",
    "model = GridSearchCV(\n",
    "    estimator=rc,\n",
    "    param_grid = param_grid,\n",
    "    scoring = \"accuracy\",\n",
    "    verbose = 10,\n",
    "    n_jobs = 1,\n",
    "    cv=5\n",
    ")\n",
    "\n",
    "model.fit(X_features, messages['label'])"
   ]
  },
  {
   "cell_type": "code",
   "execution_count": null,
   "metadata": {
    "colab": {
     "base_uri": "https://localhost:8080/",
     "height": 71
    },
    "id": "Wr2f8stfAPp2",
    "outputId": "5e63fb9f-0542-4995-facc-fbf1fa66a41a"
   },
   "outputs": [
    {
     "name": "stdout",
     "output_type": "stream",
     "text": [
      "0.9699367869024073\n",
      "{'bootstrap': True, 'ccp_alpha': 0.0, 'class_weight': None, 'criterion': 'gini', 'max_depth': None, 'max_features': 'auto', 'max_leaf_nodes': None, 'max_samples': None, 'min_impurity_decrease': 0.0, 'min_impurity_split': None, 'min_samples_leaf': 1, 'min_samples_split': 2, 'min_weight_fraction_leaf': 0.0, 'n_estimators': 200, 'n_jobs': -1, 'oob_score': False, 'random_state': None, 'verbose': 0, 'warm_start': False}\n"
     ]
    }
   ],
   "source": [
    "print(model.best_score_)\n",
    "print(model.best_estimator_.get_params())"
   ]
  },
  {
   "cell_type": "markdown",
   "metadata": {
    "id": "LQp2X0DCAPp8"
   },
   "source": [
    "# Randomize search "
   ]
  },
  {
   "cell_type": "code",
   "execution_count": null,
   "metadata": {
    "id": "nN0NTUd0APp9"
   },
   "outputs": [],
   "source": [
    "from sklearn.model_selection import RandomizedSearchCV"
   ]
  },
  {
   "cell_type": "code",
   "execution_count": null,
   "metadata": {
    "colab": {
     "base_uri": "https://localhost:8080/",
     "height": 1000
    },
    "id": "hTrrXIGtAPqE",
    "outputId": "c934b3ae-391a-4e80-c99f-899ee1378a73"
   },
   "outputs": [
    {
     "name": "stdout",
     "output_type": "stream",
     "text": [
      "Fitting 5 folds for each of 15 candidates, totalling 75 fits\n",
      "[CV] n_estimators=1200, max_depth=6, criterion=entropy ...............\n"
     ]
    },
    {
     "name": "stderr",
     "output_type": "stream",
     "text": [
      "[Parallel(n_jobs=1)]: Using backend SequentialBackend with 1 concurrent workers.\n"
     ]
    },
    {
     "name": "stdout",
     "output_type": "stream",
     "text": [
      "[CV]  n_estimators=1200, max_depth=6, criterion=entropy, score=0.871, total=  35.1s\n",
      "[CV] n_estimators=1200, max_depth=6, criterion=entropy ...............\n"
     ]
    },
    {
     "name": "stderr",
     "output_type": "stream",
     "text": [
      "[Parallel(n_jobs=1)]: Done   1 out of   1 | elapsed:   35.1s remaining:    0.0s\n"
     ]
    },
    {
     "name": "stdout",
     "output_type": "stream",
     "text": [
      "[CV]  n_estimators=1200, max_depth=6, criterion=entropy, score=0.870, total=  35.1s\n",
      "[CV] n_estimators=1200, max_depth=6, criterion=entropy ...............\n"
     ]
    },
    {
     "name": "stderr",
     "output_type": "stream",
     "text": [
      "[Parallel(n_jobs=1)]: Done   2 out of   2 | elapsed:  1.2min remaining:    0.0s\n"
     ]
    },
    {
     "name": "stdout",
     "output_type": "stream",
     "text": [
      "[CV]  n_estimators=1200, max_depth=6, criterion=entropy, score=0.872, total=  35.1s\n",
      "[CV] n_estimators=1200, max_depth=6, criterion=entropy ...............\n"
     ]
    },
    {
     "name": "stderr",
     "output_type": "stream",
     "text": [
      "[Parallel(n_jobs=1)]: Done   3 out of   3 | elapsed:  1.8min remaining:    0.0s\n"
     ]
    },
    {
     "name": "stdout",
     "output_type": "stream",
     "text": [
      "[CV]  n_estimators=1200, max_depth=6, criterion=entropy, score=0.871, total=  37.6s\n",
      "[CV] n_estimators=1200, max_depth=6, criterion=entropy ...............\n"
     ]
    },
    {
     "name": "stderr",
     "output_type": "stream",
     "text": [
      "[Parallel(n_jobs=1)]: Done   4 out of   4 | elapsed:  2.4min remaining:    0.0s\n"
     ]
    },
    {
     "name": "stdout",
     "output_type": "stream",
     "text": [
      "[CV]  n_estimators=1200, max_depth=6, criterion=entropy, score=0.872, total=  35.6s\n",
      "[CV] n_estimators=900, max_depth=8, criterion=entropy ................\n"
     ]
    },
    {
     "name": "stderr",
     "output_type": "stream",
     "text": [
      "[Parallel(n_jobs=1)]: Done   5 out of   5 | elapsed:  3.0min remaining:    0.0s\n"
     ]
    },
    {
     "name": "stdout",
     "output_type": "stream",
     "text": [
      "[CV]  n_estimators=900, max_depth=8, criterion=entropy, score=0.878, total=  38.6s\n",
      "[CV] n_estimators=900, max_depth=8, criterion=entropy ................\n"
     ]
    },
    {
     "name": "stderr",
     "output_type": "stream",
     "text": [
      "[Parallel(n_jobs=1)]: Done   6 out of   6 | elapsed:  3.6min remaining:    0.0s\n"
     ]
    },
    {
     "name": "stdout",
     "output_type": "stream",
     "text": [
      "[CV]  n_estimators=900, max_depth=8, criterion=entropy, score=0.883, total=  37.1s\n",
      "[CV] n_estimators=900, max_depth=8, criterion=entropy ................\n"
     ]
    },
    {
     "name": "stderr",
     "output_type": "stream",
     "text": [
      "[Parallel(n_jobs=1)]: Done   7 out of   7 | elapsed:  4.2min remaining:    0.0s\n"
     ]
    },
    {
     "name": "stdout",
     "output_type": "stream",
     "text": [
      "[CV]  n_estimators=900, max_depth=8, criterion=entropy, score=0.880, total=  36.9s\n",
      "[CV] n_estimators=900, max_depth=8, criterion=entropy ................\n"
     ]
    },
    {
     "name": "stderr",
     "output_type": "stream",
     "text": [
      "[Parallel(n_jobs=1)]: Done   8 out of   8 | elapsed:  4.9min remaining:    0.0s\n"
     ]
    },
    {
     "name": "stdout",
     "output_type": "stream",
     "text": [
      "[CV]  n_estimators=900, max_depth=8, criterion=entropy, score=0.875, total=  38.0s\n",
      "[CV] n_estimators=900, max_depth=8, criterion=entropy ................\n"
     ]
    },
    {
     "name": "stderr",
     "output_type": "stream",
     "text": [
      "[Parallel(n_jobs=1)]: Done   9 out of   9 | elapsed:  5.5min remaining:    0.0s\n"
     ]
    },
    {
     "name": "stdout",
     "output_type": "stream",
     "text": [
      "[CV]  n_estimators=900, max_depth=8, criterion=entropy, score=0.877, total=  36.3s\n",
      "[CV] n_estimators=1200, max_depth=2, criterion=entropy ...............\n",
      "[CV]  n_estimators=1200, max_depth=2, criterion=entropy, score=0.868, total=  14.3s\n",
      "[CV] n_estimators=1200, max_depth=2, criterion=entropy ...............\n",
      "[CV]  n_estimators=1200, max_depth=2, criterion=entropy, score=0.867, total=  14.2s\n",
      "[CV] n_estimators=1200, max_depth=2, criterion=entropy ...............\n",
      "[CV]  n_estimators=1200, max_depth=2, criterion=entropy, score=0.868, total=  14.3s\n",
      "[CV] n_estimators=1200, max_depth=2, criterion=entropy ...............\n",
      "[CV]  n_estimators=1200, max_depth=2, criterion=entropy, score=0.868, total=  14.3s\n",
      "[CV] n_estimators=1200, max_depth=2, criterion=entropy ...............\n",
      "[CV]  n_estimators=1200, max_depth=2, criterion=entropy, score=0.868, total=  14.2s\n",
      "[CV] n_estimators=1000, max_depth=13, criterion=gini .................\n",
      "[CV]  n_estimators=1000, max_depth=13, criterion=gini, score=0.905, total= 1.1min\n",
      "[CV] n_estimators=1000, max_depth=13, criterion=gini .................\n",
      "[CV]  n_estimators=1000, max_depth=13, criterion=gini, score=0.916, total= 1.1min\n",
      "[CV] n_estimators=1000, max_depth=13, criterion=gini .................\n",
      "[CV]  n_estimators=1000, max_depth=13, criterion=gini, score=0.905, total= 1.1min\n",
      "[CV] n_estimators=1000, max_depth=13, criterion=gini .................\n",
      "[CV]  n_estimators=1000, max_depth=13, criterion=gini, score=0.915, total= 1.1min\n",
      "[CV] n_estimators=1000, max_depth=13, criterion=gini .................\n",
      "[CV]  n_estimators=1000, max_depth=13, criterion=gini, score=0.907, total= 1.1min\n",
      "[CV] n_estimators=100, max_depth=2, criterion=entropy ................\n",
      "[CV]  n_estimators=100, max_depth=2, criterion=entropy, score=0.868, total=   1.8s\n",
      "[CV] n_estimators=100, max_depth=2, criterion=entropy ................\n",
      "[CV]  n_estimators=100, max_depth=2, criterion=entropy, score=0.867, total=   1.7s\n",
      "[CV] n_estimators=100, max_depth=2, criterion=entropy ................\n",
      "[CV]  n_estimators=100, max_depth=2, criterion=entropy, score=0.868, total=   1.7s\n",
      "[CV] n_estimators=100, max_depth=2, criterion=entropy ................\n",
      "[CV]  n_estimators=100, max_depth=2, criterion=entropy, score=0.868, total=   1.7s\n",
      "[CV] n_estimators=100, max_depth=2, criterion=entropy ................\n",
      "[CV]  n_estimators=100, max_depth=2, criterion=entropy, score=0.868, total=   1.7s\n",
      "[CV] n_estimators=1000, max_depth=6, criterion=entropy ...............\n",
      "[CV]  n_estimators=1000, max_depth=6, criterion=entropy, score=0.870, total=  30.2s\n",
      "[CV] n_estimators=1000, max_depth=6, criterion=entropy ...............\n",
      "[CV]  n_estimators=1000, max_depth=6, criterion=entropy, score=0.868, total=  32.6s\n",
      "[CV] n_estimators=1000, max_depth=6, criterion=entropy ...............\n",
      "[CV]  n_estimators=1000, max_depth=6, criterion=entropy, score=0.872, total=  30.7s\n",
      "[CV] n_estimators=1000, max_depth=6, criterion=entropy ...............\n",
      "[CV]  n_estimators=1000, max_depth=6, criterion=entropy, score=0.870, total=  30.6s\n",
      "[CV] n_estimators=1000, max_depth=6, criterion=entropy ...............\n",
      "[CV]  n_estimators=1000, max_depth=6, criterion=entropy, score=0.870, total=  30.9s\n",
      "[CV] n_estimators=1300, max_depth=10, criterion=entropy ..............\n",
      "[CV]  n_estimators=1300, max_depth=10, criterion=entropy, score=0.889, total= 1.1min\n",
      "[CV] n_estimators=1300, max_depth=10, criterion=entropy ..............\n",
      "[CV]  n_estimators=1300, max_depth=10, criterion=entropy, score=0.899, total= 1.1min\n",
      "[CV] n_estimators=1300, max_depth=10, criterion=entropy ..............\n",
      "[CV]  n_estimators=1300, max_depth=10, criterion=entropy, score=0.893, total= 1.1min\n",
      "[CV] n_estimators=1300, max_depth=10, criterion=entropy ..............\n",
      "[CV]  n_estimators=1300, max_depth=10, criterion=entropy, score=0.896, total= 1.1min\n",
      "[CV] n_estimators=1300, max_depth=10, criterion=entropy ..............\n",
      "[CV]  n_estimators=1300, max_depth=10, criterion=entropy, score=0.890, total= 1.1min\n",
      "[CV] n_estimators=1200, max_depth=7, criterion=gini ..................\n",
      "[CV]  n_estimators=1200, max_depth=7, criterion=gini, score=0.874, total=  44.8s\n",
      "[CV] n_estimators=1200, max_depth=7, criterion=gini ..................\n",
      "[CV]  n_estimators=1200, max_depth=7, criterion=gini, score=0.874, total=  44.0s\n",
      "[CV] n_estimators=1200, max_depth=7, criterion=gini ..................\n",
      "[CV]  n_estimators=1200, max_depth=7, criterion=gini, score=0.877, total=  44.1s\n",
      "[CV] n_estimators=1200, max_depth=7, criterion=gini ..................\n",
      "[CV]  n_estimators=1200, max_depth=7, criterion=gini, score=0.874, total=  44.4s\n",
      "[CV] n_estimators=1200, max_depth=7, criterion=gini ..................\n",
      "[CV]  n_estimators=1200, max_depth=7, criterion=gini, score=0.875, total=  47.1s\n",
      "[CV] n_estimators=100, max_depth=1, criterion=gini ...................\n",
      "[CV]  n_estimators=100, max_depth=1, criterion=gini, score=0.868, total=   1.3s\n",
      "[CV] n_estimators=100, max_depth=1, criterion=gini ...................\n",
      "[CV]  n_estimators=100, max_depth=1, criterion=gini, score=0.867, total=   1.3s\n",
      "[CV] n_estimators=100, max_depth=1, criterion=gini ...................\n",
      "[CV]  n_estimators=100, max_depth=1, criterion=gini, score=0.868, total=   1.3s\n",
      "[CV] n_estimators=100, max_depth=1, criterion=gini ...................\n",
      "[CV]  n_estimators=100, max_depth=1, criterion=gini, score=0.868, total=   1.3s\n",
      "[CV] n_estimators=100, max_depth=1, criterion=gini ...................\n",
      "[CV]  n_estimators=100, max_depth=1, criterion=gini, score=0.868, total=   1.3s\n",
      "[CV] n_estimators=700, max_depth=17, criterion=gini ..................\n",
      "[CV]  n_estimators=700, max_depth=17, criterion=gini, score=0.916, total=  58.5s\n",
      "[CV] n_estimators=700, max_depth=17, criterion=gini ..................\n",
      "[CV]  n_estimators=700, max_depth=17, criterion=gini, score=0.929, total=  59.1s\n",
      "[CV] n_estimators=700, max_depth=17, criterion=gini ..................\n",
      "[CV]  n_estimators=700, max_depth=17, criterion=gini, score=0.932, total=  59.0s\n",
      "[CV] n_estimators=700, max_depth=17, criterion=gini ..................\n",
      "[CV]  n_estimators=700, max_depth=17, criterion=gini, score=0.937, total=  58.3s\n",
      "[CV] n_estimators=700, max_depth=17, criterion=gini ..................\n",
      "[CV]  n_estimators=700, max_depth=17, criterion=gini, score=0.927, total=  58.1s\n",
      "[CV] n_estimators=1000, max_depth=17, criterion=entropy ..............\n",
      "[CV]  n_estimators=1000, max_depth=17, criterion=entropy, score=0.916, total= 1.4min\n",
      "[CV] n_estimators=1000, max_depth=17, criterion=entropy ..............\n",
      "[CV]  n_estimators=1000, max_depth=17, criterion=entropy, score=0.930, total= 1.4min\n",
      "[CV] n_estimators=1000, max_depth=17, criterion=entropy ..............\n",
      "[CV]  n_estimators=1000, max_depth=17, criterion=entropy, score=0.928, total= 1.4min\n",
      "[CV] n_estimators=1000, max_depth=17, criterion=entropy ..............\n",
      "[CV]  n_estimators=1000, max_depth=17, criterion=entropy, score=0.937, total= 1.4min\n",
      "[CV] n_estimators=1000, max_depth=17, criterion=entropy ..............\n",
      "[CV]  n_estimators=1000, max_depth=17, criterion=entropy, score=0.933, total= 1.4min\n",
      "[CV] n_estimators=400, max_depth=18, criterion=entropy ...............\n",
      "[CV]  n_estimators=400, max_depth=18, criterion=entropy, score=0.919, total=  35.1s\n",
      "[CV] n_estimators=400, max_depth=18, criterion=entropy ...............\n",
      "[CV]  n_estimators=400, max_depth=18, criterion=entropy, score=0.932, total=  36.1s\n",
      "[CV] n_estimators=400, max_depth=18, criterion=entropy ...............\n",
      "[CV]  n_estimators=400, max_depth=18, criterion=entropy, score=0.932, total=  35.0s\n",
      "[CV] n_estimators=400, max_depth=18, criterion=entropy ...............\n",
      "[CV]  n_estimators=400, max_depth=18, criterion=entropy, score=0.938, total=  34.6s\n",
      "[CV] n_estimators=400, max_depth=18, criterion=entropy ...............\n",
      "[CV]  n_estimators=400, max_depth=18, criterion=entropy, score=0.930, total=  34.7s\n",
      "[CV] n_estimators=1400, max_depth=14, criterion=entropy ..............\n",
      "[CV]  n_estimators=1400, max_depth=14, criterion=entropy, score=0.909, total= 1.6min\n",
      "[CV] n_estimators=1400, max_depth=14, criterion=entropy ..............\n",
      "[CV]  n_estimators=1400, max_depth=14, criterion=entropy, score=0.920, total= 1.6min\n",
      "[CV] n_estimators=1400, max_depth=14, criterion=entropy ..............\n",
      "[CV]  n_estimators=1400, max_depth=14, criterion=entropy, score=0.912, total= 1.7min\n",
      "[CV] n_estimators=1400, max_depth=14, criterion=entropy ..............\n",
      "[CV]  n_estimators=1400, max_depth=14, criterion=entropy, score=0.915, total= 1.6min\n",
      "[CV] n_estimators=1400, max_depth=14, criterion=entropy ..............\n",
      "[CV]  n_estimators=1400, max_depth=14, criterion=entropy, score=0.914, total= 1.6min\n",
      "[CV] n_estimators=500, max_depth=11, criterion=gini ..................\n",
      "[CV]  n_estimators=500, max_depth=11, criterion=gini, score=0.901, total=  29.3s\n",
      "[CV] n_estimators=500, max_depth=11, criterion=gini ..................\n",
      "[CV]  n_estimators=500, max_depth=11, criterion=gini, score=0.907, total=  29.9s\n",
      "[CV] n_estimators=500, max_depth=11, criterion=gini ..................\n",
      "[CV]  n_estimators=500, max_depth=11, criterion=gini, score=0.896, total=  29.5s\n",
      "[CV] n_estimators=500, max_depth=11, criterion=gini ..................\n",
      "[CV]  n_estimators=500, max_depth=11, criterion=gini, score=0.901, total=  29.2s\n",
      "[CV] n_estimators=500, max_depth=11, criterion=gini ..................\n",
      "[CV]  n_estimators=500, max_depth=11, criterion=gini, score=0.893, total=  29.4s\n",
      "[CV] n_estimators=800, max_depth=2, criterion=gini ...................\n",
      "[CV]  n_estimators=800, max_depth=2, criterion=gini, score=0.868, total=  10.7s\n",
      "[CV] n_estimators=800, max_depth=2, criterion=gini ...................\n",
      "[CV]  n_estimators=800, max_depth=2, criterion=gini, score=0.867, total=  10.1s\n",
      "[CV] n_estimators=800, max_depth=2, criterion=gini ...................\n",
      "[CV]  n_estimators=800, max_depth=2, criterion=gini, score=0.868, total=  10.2s\n",
      "[CV] n_estimators=800, max_depth=2, criterion=gini ...................\n",
      "[CV]  n_estimators=800, max_depth=2, criterion=gini, score=0.868, total=  10.1s\n",
      "[CV] n_estimators=800, max_depth=2, criterion=gini ...................\n",
      "[CV]  n_estimators=800, max_depth=2, criterion=gini, score=0.868, total=  10.1s\n"
     ]
    },
    {
     "name": "stderr",
     "output_type": "stream",
     "text": [
      "[Parallel(n_jobs=1)]: Done  75 out of  75 | elapsed: 50.9min finished\n"
     ]
    },
    {
     "data": {
      "text/plain": [
       "RandomizedSearchCV(cv=5, error_score=nan,\n",
       "                   estimator=RandomForestClassifier(bootstrap=True,\n",
       "                                                    ccp_alpha=0.0,\n",
       "                                                    class_weight=None,\n",
       "                                                    criterion='gini',\n",
       "                                                    max_depth=None,\n",
       "                                                    max_features='auto',\n",
       "                                                    max_leaf_nodes=None,\n",
       "                                                    max_samples=None,\n",
       "                                                    min_impurity_decrease=0.0,\n",
       "                                                    min_impurity_split=None,\n",
       "                                                    min_samples_leaf=1,\n",
       "                                                    min_samples_split=2,\n",
       "                                                    min_weight_fraction_leaf=0.0,\n",
       "                                                    n_estimators=100, n_jobs...\n",
       "                   iid='deprecated', n_iter=15, n_jobs=1,\n",
       "                   param_distributions={'criterion': ['gini', 'entropy'],\n",
       "                                        'max_depth': array([ 1,  2,  3,  4,  5,  6,  7,  8,  9, 10, 11, 12, 13, 14, 15, 16, 17,\n",
       "       18, 19]),\n",
       "                                        'n_estimators': array([ 100,  200,  300,  400,  500,  600,  700,  800,  900, 1000, 1100,\n",
       "       1200, 1300, 1400])},\n",
       "                   pre_dispatch='2*n_jobs', random_state=None, refit=True,\n",
       "                   return_train_score=False, scoring='accuracy', verbose=10)"
      ]
     },
     "execution_count": 31,
     "metadata": {
      "tags": []
     },
     "output_type": "execute_result"
    }
   ],
   "source": [
    "param_grid = {\n",
    "    \"n_estimators\" : np.arange(100, 1500, 100),\n",
    "    \"max_depth\" : np.arange(1, 20),\n",
    "    \"criterion\" : [\"gini\", \"entropy\"]\n",
    "    }\n",
    "\n",
    "model = RandomizedSearchCV(\n",
    "    estimator=rc,\n",
    "    param_distributions = param_grid,\n",
    "    scoring = \"accuracy\",\n",
    "    n_iter=15,\n",
    "    verbose = 10,\n",
    "    n_jobs = 1,\n",
    "    cv=5\n",
    ")\n",
    "\n",
    "model.fit(X_features, messages['label'])"
   ]
  },
  {
   "cell_type": "code",
   "execution_count": null,
   "metadata": {
    "colab": {
     "base_uri": "https://localhost:8080/",
     "height": 71
    },
    "id": "fnJk0eE9APqI",
    "outputId": "1686e2ff-0f48-4edb-a72e-865451cbc72a"
   },
   "outputs": [
    {
     "name": "stdout",
     "output_type": "stream",
     "text": [
      "0.9302242655755361\n",
      "{'bootstrap': True, 'ccp_alpha': 0.0, 'class_weight': None, 'criterion': 'entropy', 'max_depth': 18, 'max_features': 'auto', 'max_leaf_nodes': None, 'max_samples': None, 'min_impurity_decrease': 0.0, 'min_impurity_split': None, 'min_samples_leaf': 1, 'min_samples_split': 2, 'min_weight_fraction_leaf': 0.0, 'n_estimators': 400, 'n_jobs': -1, 'oob_score': False, 'random_state': None, 'verbose': 0, 'warm_start': False}\n"
     ]
    }
   ],
   "source": [
    "print(model.best_score_)\n",
    "print(model.best_estimator_.get_params())"
   ]
  },
  {
   "cell_type": "markdown",
   "metadata": {
    "id": "au2ob_ZRAPqN"
   },
   "source": [
    "# Pipeline"
   ]
  },
  {
   "cell_type": "code",
   "execution_count": null,
   "metadata": {
    "id": "8UJlUOX3APqP"
   },
   "outputs": [],
   "source": [
    "from sklearn.preprocessing import StandardScaler\n",
    "from sklearn.decomposition import PCA\n",
    "from sklearn.pipeline import Pipeline"
   ]
  },
  {
   "cell_type": "markdown",
   "metadata": {
    "id": "k3b9H8HQSI1X"
   },
   "source": [
    "This is an example of pipeline. "
   ]
  },
  {
   "cell_type": "code",
   "execution_count": null,
   "metadata": {
    "colab": {
     "base_uri": "https://localhost:8080/",
     "height": 1000
    },
    "id": "oQOrsgvxAPqV",
    "outputId": "61613ab7-5b26-49ab-98c1-6b66aa865aca"
   },
   "outputs": [
    {
     "name": "stdout",
     "output_type": "stream",
     "text": [
      "Fitting 5 folds for each of 15 candidates, totalling 75 fits\n",
      "[CV] rf__n_estimators=1400, rf__max_depth=6, rf__criterion=gini, pca__n_components=8 \n"
     ]
    },
    {
     "name": "stderr",
     "output_type": "stream",
     "text": [
      "[Parallel(n_jobs=1)]: Using backend SequentialBackend with 1 concurrent workers.\n"
     ]
    },
    {
     "name": "stdout",
     "output_type": "stream",
     "text": [
      "[CV]  rf__n_estimators=1400, rf__max_depth=6, rf__criterion=gini, pca__n_components=8, score=0.944, total=  10.0s\n",
      "[CV] rf__n_estimators=1400, rf__max_depth=6, rf__criterion=gini, pca__n_components=8 \n"
     ]
    },
    {
     "name": "stderr",
     "output_type": "stream",
     "text": [
      "[Parallel(n_jobs=1)]: Done   1 out of   1 | elapsed:   10.0s remaining:    0.0s\n"
     ]
    },
    {
     "name": "stdout",
     "output_type": "stream",
     "text": [
      "[CV]  rf__n_estimators=1400, rf__max_depth=6, rf__criterion=gini, pca__n_components=8, score=0.953, total=   9.7s\n",
      "[CV] rf__n_estimators=1400, rf__max_depth=6, rf__criterion=gini, pca__n_components=8 \n"
     ]
    },
    {
     "name": "stderr",
     "output_type": "stream",
     "text": [
      "[Parallel(n_jobs=1)]: Done   2 out of   2 | elapsed:   19.7s remaining:    0.0s\n"
     ]
    },
    {
     "name": "stdout",
     "output_type": "stream",
     "text": [
      "[CV]  rf__n_estimators=1400, rf__max_depth=6, rf__criterion=gini, pca__n_components=8, score=0.961, total=   9.8s\n",
      "[CV] rf__n_estimators=1400, rf__max_depth=6, rf__criterion=gini, pca__n_components=8 \n"
     ]
    },
    {
     "name": "stderr",
     "output_type": "stream",
     "text": [
      "[Parallel(n_jobs=1)]: Done   3 out of   3 | elapsed:   29.6s remaining:    0.0s\n"
     ]
    },
    {
     "name": "stdout",
     "output_type": "stream",
     "text": [
      "[CV]  rf__n_estimators=1400, rf__max_depth=6, rf__criterion=gini, pca__n_components=8, score=0.945, total=   9.6s\n",
      "[CV] rf__n_estimators=1400, rf__max_depth=6, rf__criterion=gini, pca__n_components=8 \n"
     ]
    },
    {
     "name": "stderr",
     "output_type": "stream",
     "text": [
      "[Parallel(n_jobs=1)]: Done   4 out of   4 | elapsed:   39.1s remaining:    0.0s\n"
     ]
    },
    {
     "name": "stdout",
     "output_type": "stream",
     "text": [
      "[CV]  rf__n_estimators=1400, rf__max_depth=6, rf__criterion=gini, pca__n_components=8, score=0.955, total=   9.5s\n",
      "[CV] rf__n_estimators=1200, rf__max_depth=13, rf__criterion=gini, pca__n_components=6 \n"
     ]
    },
    {
     "name": "stderr",
     "output_type": "stream",
     "text": [
      "[Parallel(n_jobs=1)]: Done   5 out of   5 | elapsed:   48.6s remaining:    0.0s\n"
     ]
    },
    {
     "name": "stdout",
     "output_type": "stream",
     "text": [
      "[CV]  rf__n_estimators=1200, rf__max_depth=13, rf__criterion=gini, pca__n_components=6, score=0.933, total=  10.9s\n",
      "[CV] rf__n_estimators=1200, rf__max_depth=13, rf__criterion=gini, pca__n_components=6 \n"
     ]
    },
    {
     "name": "stderr",
     "output_type": "stream",
     "text": [
      "[Parallel(n_jobs=1)]: Done   6 out of   6 | elapsed:   59.5s remaining:    0.0s\n"
     ]
    },
    {
     "name": "stdout",
     "output_type": "stream",
     "text": [
      "[CV]  rf__n_estimators=1200, rf__max_depth=13, rf__criterion=gini, pca__n_components=6, score=0.947, total=  10.4s\n",
      "[CV] rf__n_estimators=1200, rf__max_depth=13, rf__criterion=gini, pca__n_components=6 \n"
     ]
    },
    {
     "name": "stderr",
     "output_type": "stream",
     "text": [
      "[Parallel(n_jobs=1)]: Done   7 out of   7 | elapsed:  1.2min remaining:    0.0s\n"
     ]
    },
    {
     "name": "stdout",
     "output_type": "stream",
     "text": [
      "[CV]  rf__n_estimators=1200, rf__max_depth=13, rf__criterion=gini, pca__n_components=6, score=0.937, total=  10.8s\n",
      "[CV] rf__n_estimators=1200, rf__max_depth=13, rf__criterion=gini, pca__n_components=6 \n"
     ]
    },
    {
     "name": "stderr",
     "output_type": "stream",
     "text": [
      "[Parallel(n_jobs=1)]: Done   8 out of   8 | elapsed:  1.3min remaining:    0.0s\n"
     ]
    },
    {
     "name": "stdout",
     "output_type": "stream",
     "text": [
      "[CV]  rf__n_estimators=1200, rf__max_depth=13, rf__criterion=gini, pca__n_components=6, score=0.951, total=  10.9s\n",
      "[CV] rf__n_estimators=1200, rf__max_depth=13, rf__criterion=gini, pca__n_components=6 \n"
     ]
    },
    {
     "name": "stderr",
     "output_type": "stream",
     "text": [
      "[Parallel(n_jobs=1)]: Done   9 out of   9 | elapsed:  1.5min remaining:    0.0s\n"
     ]
    },
    {
     "name": "stdout",
     "output_type": "stream",
     "text": [
      "[CV]  rf__n_estimators=1200, rf__max_depth=13, rf__criterion=gini, pca__n_components=6, score=0.956, total=  10.7s\n",
      "[CV] rf__n_estimators=200, rf__max_depth=10, rf__criterion=entropy, pca__n_components=6 \n",
      "[CV]  rf__n_estimators=200, rf__max_depth=10, rf__criterion=entropy, pca__n_components=6, score=0.941, total=   4.5s\n",
      "[CV] rf__n_estimators=200, rf__max_depth=10, rf__criterion=entropy, pca__n_components=6 \n",
      "[CV]  rf__n_estimators=200, rf__max_depth=10, rf__criterion=entropy, pca__n_components=6, score=0.943, total=   4.5s\n",
      "[CV] rf__n_estimators=200, rf__max_depth=10, rf__criterion=entropy, pca__n_components=6 \n",
      "[CV]  rf__n_estimators=200, rf__max_depth=10, rf__criterion=entropy, pca__n_components=6, score=0.958, total=   4.4s\n",
      "[CV] rf__n_estimators=200, rf__max_depth=10, rf__criterion=entropy, pca__n_components=6 \n",
      "[CV]  rf__n_estimators=200, rf__max_depth=10, rf__criterion=entropy, pca__n_components=6, score=0.943, total=   4.5s\n",
      "[CV] rf__n_estimators=200, rf__max_depth=10, rf__criterion=entropy, pca__n_components=6 \n",
      "[CV]  rf__n_estimators=200, rf__max_depth=10, rf__criterion=entropy, pca__n_components=6, score=0.947, total=   4.5s\n",
      "[CV] rf__n_estimators=500, rf__max_depth=5, rf__criterion=entropy, pca__n_components=9 \n",
      "[CV]  rf__n_estimators=500, rf__max_depth=5, rf__criterion=entropy, pca__n_components=9, score=0.939, total=   7.1s\n",
      "[CV] rf__n_estimators=500, rf__max_depth=5, rf__criterion=entropy, pca__n_components=9 \n",
      "[CV]  rf__n_estimators=500, rf__max_depth=5, rf__criterion=entropy, pca__n_components=9, score=0.953, total=   7.2s\n",
      "[CV] rf__n_estimators=500, rf__max_depth=5, rf__criterion=entropy, pca__n_components=9 \n",
      "[CV]  rf__n_estimators=500, rf__max_depth=5, rf__criterion=entropy, pca__n_components=9, score=0.967, total=   7.3s\n",
      "[CV] rf__n_estimators=500, rf__max_depth=5, rf__criterion=entropy, pca__n_components=9 \n",
      "[CV]  rf__n_estimators=500, rf__max_depth=5, rf__criterion=entropy, pca__n_components=9, score=0.960, total=   7.2s\n",
      "[CV] rf__n_estimators=500, rf__max_depth=5, rf__criterion=entropy, pca__n_components=9 \n",
      "[CV]  rf__n_estimators=500, rf__max_depth=5, rf__criterion=entropy, pca__n_components=9, score=0.946, total=   7.2s\n",
      "[CV] rf__n_estimators=1100, rf__max_depth=9, rf__criterion=gini, pca__n_components=7 \n",
      "[CV]  rf__n_estimators=1100, rf__max_depth=9, rf__criterion=gini, pca__n_components=7, score=0.939, total=   9.4s\n",
      "[CV] rf__n_estimators=1100, rf__max_depth=9, rf__criterion=gini, pca__n_components=7 \n",
      "[CV]  rf__n_estimators=1100, rf__max_depth=9, rf__criterion=gini, pca__n_components=7, score=0.953, total=   9.3s\n",
      "[CV] rf__n_estimators=1100, rf__max_depth=9, rf__criterion=gini, pca__n_components=7 \n",
      "[CV]  rf__n_estimators=1100, rf__max_depth=9, rf__criterion=gini, pca__n_components=7, score=0.953, total=  12.9s\n",
      "[CV] rf__n_estimators=1100, rf__max_depth=9, rf__criterion=gini, pca__n_components=7 \n",
      "[CV]  rf__n_estimators=1100, rf__max_depth=9, rf__criterion=gini, pca__n_components=7, score=0.961, total=   9.2s\n",
      "[CV] rf__n_estimators=1100, rf__max_depth=9, rf__criterion=gini, pca__n_components=7 \n",
      "[CV]  rf__n_estimators=1100, rf__max_depth=9, rf__criterion=gini, pca__n_components=7, score=0.963, total=   9.2s\n",
      "[CV] rf__n_estimators=1000, rf__max_depth=12, rf__criterion=gini, pca__n_components=7 \n",
      "[CV]  rf__n_estimators=1000, rf__max_depth=12, rf__criterion=gini, pca__n_components=7, score=0.952, total=   9.1s\n",
      "[CV] rf__n_estimators=1000, rf__max_depth=12, rf__criterion=gini, pca__n_components=7 \n",
      "[CV]  rf__n_estimators=1000, rf__max_depth=12, rf__criterion=gini, pca__n_components=7, score=0.938, total=   9.4s\n",
      "[CV] rf__n_estimators=1000, rf__max_depth=12, rf__criterion=gini, pca__n_components=7 \n",
      "[CV]  rf__n_estimators=1000, rf__max_depth=12, rf__criterion=gini, pca__n_components=7, score=0.947, total=   9.5s\n",
      "[CV] rf__n_estimators=1000, rf__max_depth=12, rf__criterion=gini, pca__n_components=7 \n",
      "[CV]  rf__n_estimators=1000, rf__max_depth=12, rf__criterion=gini, pca__n_components=7, score=0.932, total=   9.5s\n",
      "[CV] rf__n_estimators=1000, rf__max_depth=12, rf__criterion=gini, pca__n_components=7 \n",
      "[CV]  rf__n_estimators=1000, rf__max_depth=12, rf__criterion=gini, pca__n_components=7, score=0.962, total=   9.3s\n",
      "[CV] rf__n_estimators=1000, rf__max_depth=19, rf__criterion=gini, pca__n_components=7 \n",
      "[CV]  rf__n_estimators=1000, rf__max_depth=19, rf__criterion=gini, pca__n_components=7, score=0.952, total=   9.8s\n",
      "[CV] rf__n_estimators=1000, rf__max_depth=19, rf__criterion=gini, pca__n_components=7 \n",
      "[CV]  rf__n_estimators=1000, rf__max_depth=19, rf__criterion=gini, pca__n_components=7, score=0.950, total=   9.6s\n",
      "[CV] rf__n_estimators=1000, rf__max_depth=19, rf__criterion=gini, pca__n_components=7 \n",
      "[CV]  rf__n_estimators=1000, rf__max_depth=19, rf__criterion=gini, pca__n_components=7, score=0.943, total=  10.2s\n",
      "[CV] rf__n_estimators=1000, rf__max_depth=19, rf__criterion=gini, pca__n_components=7 \n",
      "[CV]  rf__n_estimators=1000, rf__max_depth=19, rf__criterion=gini, pca__n_components=7, score=0.945, total=  10.0s\n",
      "[CV] rf__n_estimators=1000, rf__max_depth=19, rf__criterion=gini, pca__n_components=7 \n",
      "[CV]  rf__n_estimators=1000, rf__max_depth=19, rf__criterion=gini, pca__n_components=7, score=0.951, total=   9.8s\n",
      "[CV] rf__n_estimators=100, rf__max_depth=10, rf__criterion=gini, pca__n_components=6 \n",
      "[CV]  rf__n_estimators=100, rf__max_depth=10, rf__criterion=gini, pca__n_components=6, score=0.946, total=   3.5s\n",
      "[CV] rf__n_estimators=100, rf__max_depth=10, rf__criterion=gini, pca__n_components=6 \n",
      "[CV]  rf__n_estimators=100, rf__max_depth=10, rf__criterion=gini, pca__n_components=6, score=0.950, total=   3.5s\n",
      "[CV] rf__n_estimators=100, rf__max_depth=10, rf__criterion=gini, pca__n_components=6 \n",
      "[CV]  rf__n_estimators=100, rf__max_depth=10, rf__criterion=gini, pca__n_components=6, score=0.951, total=   3.5s\n",
      "[CV] rf__n_estimators=100, rf__max_depth=10, rf__criterion=gini, pca__n_components=6 \n",
      "[CV]  rf__n_estimators=100, rf__max_depth=10, rf__criterion=gini, pca__n_components=6, score=0.960, total=   3.7s\n",
      "[CV] rf__n_estimators=100, rf__max_depth=10, rf__criterion=gini, pca__n_components=6 \n",
      "[CV]  rf__n_estimators=100, rf__max_depth=10, rf__criterion=gini, pca__n_components=6, score=0.952, total=   3.6s\n",
      "[CV] rf__n_estimators=100, rf__max_depth=18, rf__criterion=entropy, pca__n_components=6 \n",
      "[CV]  rf__n_estimators=100, rf__max_depth=18, rf__criterion=entropy, pca__n_components=6, score=0.939, total=   3.8s\n",
      "[CV] rf__n_estimators=100, rf__max_depth=18, rf__criterion=entropy, pca__n_components=6 \n",
      "[CV]  rf__n_estimators=100, rf__max_depth=18, rf__criterion=entropy, pca__n_components=6, score=0.930, total=   3.8s\n",
      "[CV] rf__n_estimators=100, rf__max_depth=18, rf__criterion=entropy, pca__n_components=6 \n",
      "[CV]  rf__n_estimators=100, rf__max_depth=18, rf__criterion=entropy, pca__n_components=6, score=0.963, total=   3.8s\n",
      "[CV] rf__n_estimators=100, rf__max_depth=18, rf__criterion=entropy, pca__n_components=6 \n",
      "[CV]  rf__n_estimators=100, rf__max_depth=18, rf__criterion=entropy, pca__n_components=6, score=0.941, total=   3.7s\n",
      "[CV] rf__n_estimators=100, rf__max_depth=18, rf__criterion=entropy, pca__n_components=6 \n",
      "[CV]  rf__n_estimators=100, rf__max_depth=18, rf__criterion=entropy, pca__n_components=6, score=0.957, total=   3.7s\n",
      "[CV] rf__n_estimators=800, rf__max_depth=18, rf__criterion=entropy, pca__n_components=8 \n",
      "[CV]  rf__n_estimators=800, rf__max_depth=18, rf__criterion=entropy, pca__n_components=8, score=0.939, total=  10.0s\n",
      "[CV] rf__n_estimators=800, rf__max_depth=18, rf__criterion=entropy, pca__n_components=8 \n",
      "[CV]  rf__n_estimators=800, rf__max_depth=18, rf__criterion=entropy, pca__n_components=8, score=0.945, total=   9.5s\n",
      "[CV] rf__n_estimators=800, rf__max_depth=18, rf__criterion=entropy, pca__n_components=8 \n",
      "[CV]  rf__n_estimators=800, rf__max_depth=18, rf__criterion=entropy, pca__n_components=8, score=0.967, total=  10.0s\n",
      "[CV] rf__n_estimators=800, rf__max_depth=18, rf__criterion=entropy, pca__n_components=8 \n",
      "[CV]  rf__n_estimators=800, rf__max_depth=18, rf__criterion=entropy, pca__n_components=8, score=0.960, total=   9.4s\n",
      "[CV] rf__n_estimators=800, rf__max_depth=18, rf__criterion=entropy, pca__n_components=8 \n",
      "[CV]  rf__n_estimators=800, rf__max_depth=18, rf__criterion=entropy, pca__n_components=8, score=0.960, total=   9.5s\n",
      "[CV] rf__n_estimators=400, rf__max_depth=16, rf__criterion=gini, pca__n_components=8 \n",
      "[CV]  rf__n_estimators=400, rf__max_depth=16, rf__criterion=gini, pca__n_components=8, score=0.942, total=   5.7s\n",
      "[CV] rf__n_estimators=400, rf__max_depth=16, rf__criterion=gini, pca__n_components=8 \n",
      "[CV]  rf__n_estimators=400, rf__max_depth=16, rf__criterion=gini, pca__n_components=8, score=0.952, total=   5.7s\n",
      "[CV] rf__n_estimators=400, rf__max_depth=16, rf__criterion=gini, pca__n_components=8 \n",
      "[CV]  rf__n_estimators=400, rf__max_depth=16, rf__criterion=gini, pca__n_components=8, score=0.943, total=   5.9s\n",
      "[CV] rf__n_estimators=400, rf__max_depth=16, rf__criterion=gini, pca__n_components=8 \n",
      "[CV]  rf__n_estimators=400, rf__max_depth=16, rf__criterion=gini, pca__n_components=8, score=0.946, total=   5.7s\n",
      "[CV] rf__n_estimators=400, rf__max_depth=16, rf__criterion=gini, pca__n_components=8 \n",
      "[CV]  rf__n_estimators=400, rf__max_depth=16, rf__criterion=gini, pca__n_components=8, score=0.947, total=   5.7s\n",
      "[CV] rf__n_estimators=1100, rf__max_depth=12, rf__criterion=entropy, pca__n_components=7 \n",
      "[CV]  rf__n_estimators=1100, rf__max_depth=12, rf__criterion=entropy, pca__n_components=7, score=0.948, total=  12.1s\n",
      "[CV] rf__n_estimators=1100, rf__max_depth=12, rf__criterion=entropy, pca__n_components=7 \n",
      "[CV]  rf__n_estimators=1100, rf__max_depth=12, rf__criterion=entropy, pca__n_components=7, score=0.941, total=  12.5s\n",
      "[CV] rf__n_estimators=1100, rf__max_depth=12, rf__criterion=entropy, pca__n_components=7 \n",
      "[CV]  rf__n_estimators=1100, rf__max_depth=12, rf__criterion=entropy, pca__n_components=7, score=0.946, total=  12.5s\n",
      "[CV] rf__n_estimators=1100, rf__max_depth=12, rf__criterion=entropy, pca__n_components=7 \n",
      "[CV]  rf__n_estimators=1100, rf__max_depth=12, rf__criterion=entropy, pca__n_components=7, score=0.963, total=  12.4s\n",
      "[CV] rf__n_estimators=1100, rf__max_depth=12, rf__criterion=entropy, pca__n_components=7 \n",
      "[CV]  rf__n_estimators=1100, rf__max_depth=12, rf__criterion=entropy, pca__n_components=7, score=0.953, total=  12.8s\n",
      "[CV] rf__n_estimators=300, rf__max_depth=9, rf__criterion=gini, pca__n_components=5 \n",
      "[CV]  rf__n_estimators=300, rf__max_depth=9, rf__criterion=gini, pca__n_components=5, score=0.946, total=   4.8s\n",
      "[CV] rf__n_estimators=300, rf__max_depth=9, rf__criterion=gini, pca__n_components=5 \n",
      "[CV]  rf__n_estimators=300, rf__max_depth=9, rf__criterion=gini, pca__n_components=5, score=0.936, total=   4.7s\n",
      "[CV] rf__n_estimators=300, rf__max_depth=9, rf__criterion=gini, pca__n_components=5 \n",
      "[CV]  rf__n_estimators=300, rf__max_depth=9, rf__criterion=gini, pca__n_components=5, score=0.947, total=   4.7s\n",
      "[CV] rf__n_estimators=300, rf__max_depth=9, rf__criterion=gini, pca__n_components=5 \n",
      "[CV]  rf__n_estimators=300, rf__max_depth=9, rf__criterion=gini, pca__n_components=5, score=0.947, total=   4.7s\n",
      "[CV] rf__n_estimators=300, rf__max_depth=9, rf__criterion=gini, pca__n_components=5 \n",
      "[CV]  rf__n_estimators=300, rf__max_depth=9, rf__criterion=gini, pca__n_components=5, score=0.941, total=   4.7s\n",
      "[CV] rf__n_estimators=1000, rf__max_depth=18, rf__criterion=entropy, pca__n_components=9 \n",
      "[CV]  rf__n_estimators=1000, rf__max_depth=18, rf__criterion=entropy, pca__n_components=9, score=0.946, total=  14.4s\n",
      "[CV] rf__n_estimators=1000, rf__max_depth=18, rf__criterion=entropy, pca__n_components=9 \n",
      "[CV]  rf__n_estimators=1000, rf__max_depth=18, rf__criterion=entropy, pca__n_components=9, score=0.959, total=  14.2s\n",
      "[CV] rf__n_estimators=1000, rf__max_depth=18, rf__criterion=entropy, pca__n_components=9 \n",
      "[CV]  rf__n_estimators=1000, rf__max_depth=18, rf__criterion=entropy, pca__n_components=9, score=0.953, total=  14.7s\n",
      "[CV] rf__n_estimators=1000, rf__max_depth=18, rf__criterion=entropy, pca__n_components=9 \n",
      "[CV]  rf__n_estimators=1000, rf__max_depth=18, rf__criterion=entropy, pca__n_components=9, score=0.961, total=  13.6s\n",
      "[CV] rf__n_estimators=1000, rf__max_depth=18, rf__criterion=entropy, pca__n_components=9 \n",
      "[CV]  rf__n_estimators=1000, rf__max_depth=18, rf__criterion=entropy, pca__n_components=9, score=0.946, total=  14.5s\n",
      "[CV] rf__n_estimators=1300, rf__max_depth=18, rf__criterion=gini, pca__n_components=9 \n",
      "[CV]  rf__n_estimators=1300, rf__max_depth=18, rf__criterion=gini, pca__n_components=9, score=0.941, total=  14.7s\n",
      "[CV] rf__n_estimators=1300, rf__max_depth=18, rf__criterion=gini, pca__n_components=9 \n",
      "[CV]  rf__n_estimators=1300, rf__max_depth=18, rf__criterion=gini, pca__n_components=9, score=0.948, total=  14.4s\n",
      "[CV] rf__n_estimators=1300, rf__max_depth=18, rf__criterion=gini, pca__n_components=9 \n",
      "[CV]  rf__n_estimators=1300, rf__max_depth=18, rf__criterion=gini, pca__n_components=9, score=0.953, total=  15.0s\n",
      "[CV] rf__n_estimators=1300, rf__max_depth=18, rf__criterion=gini, pca__n_components=9 \n",
      "[CV]  rf__n_estimators=1300, rf__max_depth=18, rf__criterion=gini, pca__n_components=9, score=0.960, total=  14.4s\n",
      "[CV] rf__n_estimators=1300, rf__max_depth=18, rf__criterion=gini, pca__n_components=9 \n",
      "[CV]  rf__n_estimators=1300, rf__max_depth=18, rf__criterion=gini, pca__n_components=9, score=0.957, total=  14.8s\n"
     ]
    },
    {
     "name": "stderr",
     "output_type": "stream",
     "text": [
      "[Parallel(n_jobs=1)]: Done  75 out of  75 | elapsed: 10.9min finished\n"
     ]
    },
    {
     "data": {
      "text/plain": [
       "RandomizedSearchCV(cv=5, error_score=nan,\n",
       "                   estimator=Pipeline(memory=None,\n",
       "                                      steps=[('scaler',\n",
       "                                              StandardScaler(copy=True,\n",
       "                                                             with_mean=True,\n",
       "                                                             with_std=True)),\n",
       "                                             ('pca',\n",
       "                                              PCA(copy=True,\n",
       "                                                  iterated_power='auto',\n",
       "                                                  n_components=None,\n",
       "                                                  random_state=None,\n",
       "                                                  svd_solver='auto', tol=0.0,\n",
       "                                                  whiten=False)),\n",
       "                                             ('rf',\n",
       "                                              RandomForestClassifier(bootstrap=True,\n",
       "                                                                     ccp_alpha=0.0,\n",
       "                                                                     class_weight=None,\n",
       "                                                                     criterion=...\n",
       "                   param_distributions={'pca__n_components': array([5, 6, 7, 8, 9]),\n",
       "                                        'rf__criterion': ['gini', 'entropy'],\n",
       "                                        'rf__max_depth': array([ 1,  2,  3,  4,  5,  6,  7,  8,  9, 10, 11, 12, 13, 14, 15, 16, 17,\n",
       "       18, 19]),\n",
       "                                        'rf__n_estimators': array([ 100,  200,  300,  400,  500,  600,  700,  800,  900, 1000, 1100,\n",
       "       1200, 1300, 1400])},\n",
       "                   pre_dispatch='2*n_jobs', random_state=None, refit=True,\n",
       "                   return_train_score=False, scoring='accuracy', verbose=10)"
      ]
     },
     "execution_count": 34,
     "metadata": {
      "tags": []
     },
     "output_type": "execute_result"
    }
   ],
   "source": [
    "scaler = StandardScaler()\n",
    "pca = PCA()\n",
    "rf = RandomForestClassifier(n_jobs=-1)\n",
    "\n",
    "classifier = Pipeline([(\"scaler\", scaler), (\"pca\", pca), (\"rf\", rf)])\n",
    "\n",
    "\n",
    "param_grid = {\n",
    "    \"pca__n_components\" : np.arange(5, 10),\n",
    "    \"rf__n_estimators\" : np.arange(100, 1500, 100),      # notice the parameters\n",
    "    \"rf__max_depth\" : np.arange(1, 20),\n",
    "    \"rf__criterion\" : [\"gini\", \"entropy\"]\n",
    "    }\n",
    "\n",
    "model = RandomizedSearchCV(\n",
    "    estimator=classifier,\n",
    "    param_distributions = param_grid,\n",
    "    scoring = \"accuracy\",\n",
    "    n_iter=15,\n",
    "    verbose = 10,\n",
    "    n_jobs = 1,\n",
    "    cv=5\n",
    ")\n",
    "\n",
    "model.fit(X_features, messages['label'])"
   ]
  },
  {
   "cell_type": "code",
   "execution_count": null,
   "metadata": {
    "colab": {
     "base_uri": "https://localhost:8080/",
     "height": 343
    },
    "id": "mQs9RltHAPqZ",
    "outputId": "f9add61e-b02f-4f39-abe9-591725a11e15"
   },
   "outputs": [
    {
     "name": "stdout",
     "output_type": "stream",
     "text": [
      "0.9542346735919232\n",
      "{'memory': None, 'steps': [('scaler', StandardScaler(copy=True, with_mean=True, with_std=True)), ('pca', PCA(copy=True, iterated_power='auto', n_components=8, random_state=None,\n",
      "    svd_solver='auto', tol=0.0, whiten=False)), ('rf', RandomForestClassifier(bootstrap=True, ccp_alpha=0.0, class_weight=None,\n",
      "                       criterion='entropy', max_depth=18, max_features='auto',\n",
      "                       max_leaf_nodes=None, max_samples=None,\n",
      "                       min_impurity_decrease=0.0, min_impurity_split=None,\n",
      "                       min_samples_leaf=1, min_samples_split=2,\n",
      "                       min_weight_fraction_leaf=0.0, n_estimators=800,\n",
      "                       n_jobs=-1, oob_score=False, random_state=None, verbose=0,\n",
      "                       warm_start=False))], 'verbose': False, 'scaler': StandardScaler(copy=True, with_mean=True, with_std=True), 'pca': PCA(copy=True, iterated_power='auto', n_components=8, random_state=None,\n",
      "    svd_solver='auto', tol=0.0, whiten=False), 'rf': RandomForestClassifier(bootstrap=True, ccp_alpha=0.0, class_weight=None,\n",
      "                       criterion='entropy', max_depth=18, max_features='auto',\n",
      "                       max_leaf_nodes=None, max_samples=None,\n",
      "                       min_impurity_decrease=0.0, min_impurity_split=None,\n",
      "                       min_samples_leaf=1, min_samples_split=2,\n",
      "                       min_weight_fraction_leaf=0.0, n_estimators=800,\n",
      "                       n_jobs=-1, oob_score=False, random_state=None, verbose=0,\n",
      "                       warm_start=False), 'scaler__copy': True, 'scaler__with_mean': True, 'scaler__with_std': True, 'pca__copy': True, 'pca__iterated_power': 'auto', 'pca__n_components': 8, 'pca__random_state': None, 'pca__svd_solver': 'auto', 'pca__tol': 0.0, 'pca__whiten': False, 'rf__bootstrap': True, 'rf__ccp_alpha': 0.0, 'rf__class_weight': None, 'rf__criterion': 'entropy', 'rf__max_depth': 18, 'rf__max_features': 'auto', 'rf__max_leaf_nodes': None, 'rf__max_samples': None, 'rf__min_impurity_decrease': 0.0, 'rf__min_impurity_split': None, 'rf__min_samples_leaf': 1, 'rf__min_samples_split': 2, 'rf__min_weight_fraction_leaf': 0.0, 'rf__n_estimators': 800, 'rf__n_jobs': -1, 'rf__oob_score': False, 'rf__random_state': None, 'rf__verbose': 0, 'rf__warm_start': False}\n"
     ]
    }
   ],
   "source": [
    "print(model.best_score_)\n",
    "print(model.best_estimator_.get_params())"
   ]
  },
  {
   "cell_type": "markdown",
   "metadata": {
    "id": "2a5g8BQEc46h"
   },
   "source": [
    "# SKOPT"
   ]
  },
  {
   "cell_type": "code",
   "execution_count": null,
   "metadata": {
    "id": "jWmr-IxhBUkq"
   },
   "outputs": [],
   "source": [
    "from sklearn.model_selection import StratifiedKFold\n",
    "from functools import partial\n",
    "from skopt import space\n",
    "from skopt import gp_minimize"
   ]
  },
  {
   "cell_type": "code",
   "execution_count": null,
   "metadata": {
    "id": "ui_9DTeqUPsK"
   },
   "outputs": [],
   "source": [
    "def optimize(params, param_names, x, y):\n",
    "\n",
    "  params = dict(zip(param_names, params))\n",
    "  model = RandomForestClassifier(**params)\n",
    "  Kfold = StratifiedKFold(n_splits =5)\n",
    "\n",
    "  accuracy = []\n",
    "\n",
    "  for idx in Kfold.split(x, y):\n",
    "    xtrain = x[idx[0]] \n",
    "    ytrain = y[idx[0]]\n",
    "\n",
    "    xtest = x[idx[1]]\n",
    "    ytest = y[idx[1]]\n",
    "\n",
    "    model.fit(xtrain, ytrain)\n",
    "    ypred = model.predict(xtest)\n",
    "    acc = accuracy_score(ytest, ypred)\n",
    "    accuracy.append(acc)\n",
    "\n",
    "  return np.mean(accuracy)\n"
   ]
  },
  {
   "cell_type": "code",
   "execution_count": 87,
   "metadata": {
    "colab": {
     "base_uri": "https://localhost:8080/",
     "height": 1000
    },
    "id": "8HWetTRlVxv0",
    "outputId": "0c936510-a0fa-4ea4-c0e4-cba46fe83917"
   },
   "outputs": [
    {
     "name": "stdout",
     "output_type": "stream",
     "text": [
      "Iteration No: 1 started. Evaluating function at random point.\n",
      "Iteration No: 1 ended. Evaluation done at random point.\n",
      "Time taken: 120.8676\n",
      "Function value obtained: 0.9659\n",
      "Current minimum: 0.9659\n",
      "Iteration No: 2 started. Evaluating function at random point.\n",
      "Iteration No: 2 ended. Evaluation done at random point.\n",
      "Time taken: 68.0298\n",
      "Function value obtained: 0.9630\n",
      "Current minimum: 0.9630\n",
      "Iteration No: 3 started. Evaluating function at random point.\n",
      "Iteration No: 3 ended. Evaluation done at random point.\n",
      "Time taken: 283.3437\n",
      "Function value obtained: 0.9628\n",
      "Current minimum: 0.9628\n",
      "Iteration No: 4 started. Evaluating function at random point.\n",
      "Iteration No: 4 ended. Evaluation done at random point.\n",
      "Time taken: 62.2915\n",
      "Function value obtained: 0.9630\n",
      "Current minimum: 0.9628\n",
      "Iteration No: 5 started. Evaluating function at random point.\n",
      "Iteration No: 5 ended. Evaluation done at random point.\n",
      "Time taken: 87.9418\n",
      "Function value obtained: 0.9539\n",
      "Current minimum: 0.9539\n",
      "Iteration No: 6 started. Evaluating function at random point.\n",
      "Iteration No: 6 ended. Evaluation done at random point.\n",
      "Time taken: 47.5995\n",
      "Function value obtained: 0.9471\n",
      "Current minimum: 0.9471\n",
      "Iteration No: 7 started. Evaluating function at random point.\n",
      "Iteration No: 7 ended. Evaluation done at random point.\n",
      "Time taken: 70.7597\n",
      "Function value obtained: 0.9528\n",
      "Current minimum: 0.9471\n",
      "Iteration No: 8 started. Evaluating function at random point.\n",
      "Iteration No: 8 ended. Evaluation done at random point.\n",
      "Time taken: 68.3603\n",
      "Function value obtained: 0.9501\n",
      "Current minimum: 0.9471\n",
      "Iteration No: 9 started. Evaluating function at random point.\n",
      "Iteration No: 9 ended. Evaluation done at random point.\n",
      "Time taken: 11.7597\n",
      "Function value obtained: 0.9392\n",
      "Current minimum: 0.9392\n",
      "Iteration No: 10 started. Evaluating function at random point.\n",
      "Iteration No: 10 ended. Evaluation done at random point.\n",
      "Time taken: 156.9326\n",
      "Function value obtained: 0.9612\n",
      "Current minimum: 0.9392\n",
      "Iteration No: 11 started. Searching for the next optimal point.\n",
      "Iteration No: 11 ended. Search finished for the next optimal point.\n",
      "Time taken: 9.1386\n",
      "Function value obtained: 0.8659\n",
      "Current minimum: 0.8659\n",
      "Iteration No: 12 started. Searching for the next optimal point.\n",
      "Iteration No: 12 ended. Search finished for the next optimal point.\n",
      "Time taken: 126.1313\n",
      "Function value obtained: 0.9322\n",
      "Current minimum: 0.8659\n",
      "Iteration No: 13 started. Searching for the next optimal point.\n",
      "Iteration No: 13 ended. Search finished for the next optimal point.\n",
      "Time taken: 56.7413\n",
      "Function value obtained: 0.9672\n",
      "Current minimum: 0.8659\n",
      "Iteration No: 14 started. Searching for the next optimal point.\n",
      "Iteration No: 14 ended. Search finished for the next optimal point.\n",
      "Time taken: 2.0277\n",
      "Function value obtained: 0.8659\n",
      "Current minimum: 0.8659\n",
      "Iteration No: 15 started. Searching for the next optimal point.\n",
      "Iteration No: 15 ended. Search finished for the next optimal point.\n",
      "Time taken: 1.9589\n",
      "Function value obtained: 0.8659\n",
      "Current minimum: 0.8659\n"
     ]
    }
   ],
   "source": [
    "param_space = [\n",
    "    space.Integer(3, 15, name=\"max_depth\"),\n",
    "    space.Integer(100, 600, name=\"n_estimators\"),\n",
    "    space.Categorical([\"gini\", \"entropy\"], name=\"criterion\"),\n",
    "    space.Real(0.01, 1 , prior=\"uniform\", name=\"max_features\")\n",
    "]\n",
    "param_names=[i.name for i in param_space]\n",
    "\n",
    "optimizer_function = partial(\n",
    "    optimize,\n",
    "    param_names=param_names,\n",
    "    x=X_tfidf, y=messages['label']\n",
    ")\n",
    "result = gp_minimize(\n",
    "    optimizer_function,\n",
    "    dimensions= param_space,\n",
    "    n_calls=15,\n",
    "    n_random_starts=10,\n",
    "    verbose=10\n",
    ")"
   ]
  },
  {
   "cell_type": "code",
   "execution_count": 88,
   "metadata": {
    "colab": {
     "base_uri": "https://localhost:8080/",
     "height": 34
    },
    "id": "vtJmd8P0f8VT",
    "outputId": "41bbcc85-347f-453a-8f13-fd824041d375"
   },
   "outputs": [
    {
     "name": "stdout",
     "output_type": "stream",
     "text": [
      "{'max_depth': 3, 'n_estimators': 600, 'criterion': 'gini', 'max_features': 0.01}\n"
     ]
    }
   ],
   "source": [
    "print(dict(zip(param_names, result.x)))"
   ]
  },
  {
   "cell_type": "markdown",
   "metadata": {
    "id": "bpm-k6oiitlV"
   },
   "source": [
    "#Hyper opt"
   ]
  },
  {
   "cell_type": "code",
   "execution_count": 107,
   "metadata": {
    "id": "rLux8TVYgJc_"
   },
   "outputs": [],
   "source": [
    "from hyperopt import hp, fmin, tpe, Trials\n",
    "from hyperopt.pyll.base import scope"
   ]
  },
  {
   "cell_type": "code",
   "execution_count": 108,
   "metadata": {
    "id": "2kE_tGCTjGCn"
   },
   "outputs": [],
   "source": [
    "def optimize(params, x, y):\n",
    "\n",
    "  model = RandomForestClassifier(**params)\n",
    "  Kfold = StratifiedKFold(n_splits =5)\n",
    "\n",
    "  accuracy = []\n",
    "\n",
    "  for idx in Kfold.split(x, y):\n",
    "    xtrain = x[idx[0]] \n",
    "    ytrain = y[idx[0]]\n",
    "\n",
    "    xtest = x[idx[1]]\n",
    "    ytest = y[idx[1]]\n",
    "\n",
    "    model.fit(xtrain, ytrain)\n",
    "    ypred = model.predict(xtest)\n",
    "    acc = accuracy_score(ytest, ypred)\n",
    "    accuracy.append(acc)\n",
    "\n",
    "  return np.mean(accuracy)"
   ]
  },
  {
   "cell_type": "code",
   "execution_count": 110,
   "metadata": {
    "colab": {
     "base_uri": "https://localhost:8080/",
     "height": 51
    },
    "id": "rYSj92g7jF8D",
    "outputId": "c8cd4a61-8f2c-4427-9945-61dfe4b73c5a"
   },
   "outputs": [
    {
     "name": "stdout",
     "output_type": "stream",
     "text": [
      "100%|██████████| 15/15 [28:12<00:00, 112.85s/it, best loss: 0.928032943942163]\n",
      "{'criterion': 0, 'max_depth': 3.0, 'max_features': 0.3277656197847996, 'n_estimators': 383.0}\n"
     ]
    }
   ],
   "source": [
    "param_space = {\n",
    "    \"max_depth\": scope.int(hp.quniform(\"max_depth\", 3, 15, 1)),\n",
    "    \"n_estimators\": scope.int(hp.quniform(\"n_estimators\", 100, 600, 1)),\n",
    "    \"criterion\": hp.choice(\"criterion\", [\"gini\", \"entropy\"]),\n",
    "    \"max_features\": hp.uniform(\"max_features\", 0.01, 1)\n",
    "}\n",
    "\n",
    "optimizer_function = partial(\n",
    "    optimize,\n",
    "    x=X_tfidf, y=messages['label']\n",
    ")\n",
    "trails = Trials()\n",
    "\n",
    "result = fmin(\n",
    "    fn=optimizer_function,\n",
    "    space= param_space,\n",
    "    algo=tpe.suggest,\n",
    "    max_evals=15,\n",
    "    trials=trails\n",
    ")\n",
    "print(result)"
   ]
  },
  {
   "cell_type": "markdown",
   "metadata": {
    "id": "WuTcxiDaoNlO"
   },
   "source": [
    "# Optuna"
   ]
  },
  {
   "cell_type": "code",
   "execution_count": 114,
   "metadata": {
    "id": "bOBvOWokoXD-"
   },
   "outputs": [],
   "source": [
    "import optuna"
   ]
  },
  {
   "cell_type": "code",
   "execution_count": 121,
   "metadata": {
    "id": "h2lE0V8ZoZnn"
   },
   "outputs": [],
   "source": [
    "def optimize(trail, x, y):\n",
    "  \n",
    "  criterion = trail.suggest_categorical(\"criterion\", [\"gini\", \"entropy\"])\n",
    "  n_estimators = trail.suggest_int(\"n_estimators\", 100, 1500)\n",
    "  max_depth = trail.suggest_int(\"max_depth\", 3, 15)\n",
    "  max_features = trail.suggest_uniform(\"max_features\", 0.01, 1.0)\n",
    "\n",
    "  \n",
    "  model = RandomForestClassifier(\n",
    "      n_estimators=n_estimators, max_depth=max_depth,\n",
    "      max_features=max_features, criterion=criterion\n",
    "  )\n",
    "  Kfold = StratifiedKFold(n_splits =5)\n",
    "\n",
    "  accuracy = []\n",
    "\n",
    "  for idx in Kfold.split(x, y):\n",
    "    xtrain = x[idx[0]] \n",
    "    ytrain = y[idx[0]]\n",
    "\n",
    "    xtest = x[idx[1]]\n",
    "    ytest = y[idx[1]]\n",
    "\n",
    "    model.fit(xtrain, ytrain)\n",
    "    ypred = model.predict(xtest)\n",
    "    acc = accuracy_score(ytest, ypred)\n",
    "    accuracy.append(acc)\n",
    "\n",
    "  return np.mean(accuracy)"
   ]
  },
  {
   "cell_type": "code",
   "execution_count": 123,
   "metadata": {
    "colab": {
     "base_uri": "https://localhost:8080/",
     "height": 309
    },
    "id": "hpTMmpHcoZlE",
    "outputId": "e208039c-903c-4e47-fccd-fd133aace5b1"
   },
   "outputs": [
    {
     "name": "stderr",
     "output_type": "stream",
     "text": [
      "[I 2020-09-27 13:29:23,146] A new study created in memory with name: no-name-f9929c28-fc7a-4fc7-aaf4-fc1d88adc749\n",
      "[I 2020-09-27 13:38:35,476] Trial 0 finished with value: 0.9635673169042999 and parameters: {'criterion': 'entropy', 'n_estimators': 1154, 'max_depth': 10, 'max_features': 0.8482278754692272}. Best is trial 0 with value: 0.9635673169042999.\n",
      "[I 2020-09-27 13:49:25,764] Trial 1 finished with value: 0.967335904227484 and parameters: {'criterion': 'entropy', 'n_estimators': 1309, 'max_depth': 14, 'max_features': 0.5589951041763699}. Best is trial 0 with value: 0.9635673169042999.\n",
      "[I 2020-09-27 13:59:21,088] Trial 2 finished with value: 0.967873859803077 and parameters: {'criterion': 'gini', 'n_estimators': 1486, 'max_depth': 14, 'max_features': 0.40803176454895196}. Best is trial 0 with value: 0.9635673169042999.\n",
      "[I 2020-09-27 14:05:46,206] Trial 3 finished with value: 0.9664383991755964 and parameters: {'criterion': 'entropy', 'n_estimators': 984, 'max_depth': 13, 'max_features': 0.3357900492685188}. Best is trial 0 with value: 0.9635673169042999.\n",
      "[I 2020-09-27 14:07:16,165] Trial 4 finished with value: 0.9596188743348012 and parameters: {'criterion': 'entropy', 'n_estimators': 937, 'max_depth': 15, 'max_features': 0.03716245570163012}. Best is trial 4 with value: 0.9596188743348012.\n",
      "[I 2020-09-27 14:14:06,949] Trial 5 finished with value: 0.9633876226743203 and parameters: {'criterion': 'gini', 'n_estimators': 982, 'max_depth': 11, 'max_features': 0.9282491543830714}. Best is trial 4 with value: 0.9596188743348012.\n",
      "[I 2020-09-27 14:22:04,442] Trial 6 finished with value: 0.9687716868876347 and parameters: {'criterion': 'entropy', 'n_estimators': 1146, 'max_depth': 15, 'max_features': 0.32412861390335024}. Best is trial 4 with value: 0.9596188743348012.\n",
      "[I 2020-09-27 14:24:59,599] Trial 7 finished with value: 0.9678740208194121 and parameters: {'criterion': 'gini', 'n_estimators': 752, 'max_depth': 13, 'max_features': 0.17648593360942721}. Best is trial 4 with value: 0.9596188743348012.\n",
      "[I 2020-09-27 14:28:51,590] Trial 8 finished with value: 0.9682327652140309 and parameters: {'criterion': 'gini', 'n_estimators': 582, 'max_depth': 15, 'max_features': 0.37772362764174716}. Best is trial 4 with value: 0.9596188743348012.\n",
      "[I 2020-09-27 14:31:03,466] Trial 9 finished with value: 0.9675151154084582 and parameters: {'criterion': 'gini', 'n_estimators': 295, 'max_depth': 14, 'max_features': 0.5589723717674306}. Best is trial 4 with value: 0.9596188743348012.\n",
      "[I 2020-09-27 14:31:09,813] Trial 10 finished with value: 0.9002151178237032 and parameters: {'criterion': 'entropy', 'n_estimators': 156, 'max_depth': 5, 'max_features': 0.03823614042390322}. Best is trial 10 with value: 0.9002151178237032.\n",
      "[I 2020-09-27 14:31:15,357] Trial 11 finished with value: 0.8752691790582154 and parameters: {'criterion': 'entropy', 'n_estimators': 220, 'max_depth': 5, 'max_features': 0.016067360933222103}. Best is trial 11 with value: 0.8752691790582154.\n",
      "[I 2020-09-27 14:31:20,403] Trial 12 finished with value: 0.9025485665520767 and parameters: {'criterion': 'entropy', 'n_estimators': 119, 'max_depth': 4, 'max_features': 0.052083079903927604}. Best is trial 11 with value: 0.8752691790582154.\n",
      "[I 2020-09-27 14:31:28,308] Trial 13 finished with value: 0.8686290264147297 and parameters: {'criterion': 'entropy', 'n_estimators': 347, 'max_depth': 5, 'max_features': 0.01250798815237563}. Best is trial 13 with value: 0.8686290264147297.\n",
      "[I 2020-09-27 14:32:40,148] Trial 14 finished with value: 0.9538763877595382 and parameters: {'criterion': 'entropy', 'n_estimators': 433, 'max_depth': 7, 'max_features': 0.18970123699464989}. Best is trial 13 with value: 0.8686290264147297.\n"
     ]
    }
   ],
   "source": [
    "optimizer_function = partial(\n",
    "    optimize,\n",
    "    x=X_tfidf, y=messages['label']\n",
    ")\n",
    "\n",
    "study = optuna.create_study(direction=\"minimize\")\n",
    "study.optimize(\n",
    "    optimizer_function, n_trials=15\n",
    ")\n"
   ]
  },
  {
   "cell_type": "code",
   "execution_count": null,
   "metadata": {
    "id": "iAvkicapoZd3"
   },
   "outputs": [],
   "source": []
  }
 ],
 "metadata": {
  "colab": {
   "collapsed_sections": [],
   "name": "Hyperparamter_optimization.ipynb",
   "provenance": []
  },
  "kernelspec": {
   "display_name": "Python 3",
   "language": "python",
   "name": "python3"
  },
  "language_info": {
   "codemirror_mode": {
    "name": "ipython",
    "version": 3
   },
   "file_extension": ".py",
   "mimetype": "text/x-python",
   "name": "python",
   "nbconvert_exporter": "python",
   "pygments_lexer": "ipython3",
   "version": "3.8.3"
  }
 },
 "nbformat": 4,
 "nbformat_minor": 1
}
